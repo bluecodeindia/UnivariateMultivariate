{
 "cells": [
  {
   "cell_type": "code",
   "execution_count": 1,
   "id": "69825f59",
   "metadata": {},
   "outputs": [],
   "source": [
    "from pandas import read_csv\n",
    "from matplotlib import pyplot\n",
    "from statsmodels.tsa.api import VAR\n",
    "\n",
    "from sklearn.metrics import mean_squared_error\n",
    "from sklearn.metrics import mean_absolute_percentage_error\n",
    "from sklearn.metrics import mean_absolute_error\n",
    "from math import sqrt\n",
    "import numpy as np\n"
   ]
  },
  {
   "cell_type": "code",
   "execution_count": 2,
   "id": "12eb6dca",
   "metadata": {},
   "outputs": [],
   "source": [
    "PATH_TO_TEST_TRAIN_DATA = 'Tangni/Data/'\n",
    "\n",
    "#### define dataset\n",
    "series1 = read_csv(PATH_TO_TEST_TRAIN_DATA + '1-3.csv', header=0, usecols=[0,1,2,3], index_col=None) \n",
    "data1 = series1.values\n",
    "\n",
    "series2 = read_csv(PATH_TO_TEST_TRAIN_DATA + '2-12.csv', header=0, usecols=[0,1,2,3], index_col=None) \n",
    "data2 = series2.values\n",
    "\n",
    "series3 = read_csv(PATH_TO_TEST_TRAIN_DATA + '3-6.csv', header=0, usecols=[0,1,2,3], index_col=None) \n",
    "data3 = series3.values\n",
    "\n",
    "series4 = read_csv(PATH_TO_TEST_TRAIN_DATA + '4-15.csv', header=0, usecols=[0,1,2,3], index_col=None) \n",
    "data4 = series4.values\n",
    "\n",
    "series5 = read_csv(PATH_TO_TEST_TRAIN_DATA + '5-15.csv', header=0, usecols=[0,1,2,3], index_col=None) \n",
    "data5 = series5.values"
   ]
  },
  {
   "cell_type": "code",
   "execution_count": 3,
   "id": "cf4dc55d",
   "metadata": {},
   "outputs": [],
   "source": [
    "data1[:,2] = data1[:,2]+np.random.normal(0,0.001, len(data1))\n",
    "data1[:,3] = data1[:,3]+np.random.normal(0,0.001, len(data1))\n",
    "\n",
    "data2[:,1] = data2[:,1]+np.random.normal(0,0.001, len(data2))\n",
    "data2[:,2] = data2[:,2]+np.random.normal(0,0.001, len(data2))\n",
    "data2[:,3] = data2[:,3]+np.random.normal(0,0.001, len(data2))\n",
    "\n",
    "data3[:,2] = data3[:,2]+np.random.normal(0,0.001, len(data3))\n",
    "data3[:,3] = data3[:,3]+np.random.normal(0,0.001, len(data3))\n",
    "\n",
    "data4[:,2] = data4[:,2]+np.random.normal(0,0.001, len(data4))\n",
    "data4[:,3] = data4[:,3]+np.random.normal(0,0.001, len(data4))\n",
    "\n",
    "data5[:,2] = data5[:,2]+np.random.normal(0,0.001, len(data5))\n",
    "data5[:,3] = data5[:,3]+np.random.normal(0,0.001, len(data5))"
   ]
  },
  {
   "cell_type": "code",
   "execution_count": 4,
   "id": "21bcd014",
   "metadata": {},
   "outputs": [],
   "source": [
    "def VactorAutoregression(train,test,lags=1):\n",
    "\n",
    "    model = VAR(train, )\n",
    "    model_fit = model.fit(lags)\n",
    "\n",
    "    trainpredictions=[]\n",
    "    predictions=[]\n",
    "    X_train=[]\n",
    "    for i in range(lags):\n",
    "        X_train.append(train[i])\n",
    "    for i in range(lags,62):\n",
    "        \n",
    "        p = model_fit.forecast(X_train,steps=1)\n",
    "        X_train.append(train[i])\n",
    "        trainpredictions.append(p[:,1])\n",
    "        \n",
    "    X_test=[]\n",
    "    \n",
    "    for i in range(lags,0,-1):\n",
    "\n",
    "        X_test.append(train[-i])\n",
    "\n",
    "    for i in range(16):\n",
    "\n",
    "        p = model_fit.forecast(X_test,steps=1)\n",
    "        X_test.append(test[i])\n",
    "        predictions.append(p[:,1])\n",
    "\n",
    "    trainpredictions =np.array(trainpredictions)\n",
    "    predictions = np.array(predictions)\n",
    "    train_label = train[lags:,1]\n",
    "    test_label  = test[:,1]\n",
    "    \n",
    "    RMSE1 = sqrt(mean_squared_error(train_label, trainpredictions))\n",
    "    RMSE2 = sqrt(mean_squared_error(test_label, predictions))\n",
    "    \n",
    "    MAE1 = mean_absolute_error(train_label, trainpredictions)\n",
    "    MAE2 = mean_absolute_error(test_label, predictions)\n",
    "    \n",
    "    MAPE1 = mean_absolute_percentage_error(train_label, trainpredictions)\n",
    "    MAPE2 = mean_absolute_percentage_error(test_label, predictions)\n",
    "    \n",
    "    return RMSE1, RMSE2, MAE1, MAE2, MAPE1, MAPE2"
   ]
  },
  {
   "cell_type": "code",
   "execution_count": 5,
   "id": "8c2e3f77",
   "metadata": {},
   "outputs": [],
   "source": [
    "\n",
    "Data = [[data1[:62],data1[62:]],[data2[:62],data2[62:]],[data3[:62],data3[62:]],[data4[:62],data4[62:]],[data5[:62],data5[62:]]]\n"
   ]
  },
  {
   "cell_type": "code",
   "execution_count": null,
   "id": "80645412",
   "metadata": {},
   "outputs": [],
   "source": []
  },
  {
   "cell_type": "code",
   "execution_count": 6,
   "id": "2c0f3262",
   "metadata": {},
   "outputs": [],
   "source": [
    "RMSE = []\n",
    "RMSET = []\n",
    "RMSETT = []\n",
    "for i in range(1,20):\n",
    "    T1, TT1, MAE11, MAE12, MAPE11, MAPE12 = VactorAutoregression(Data[0][0],Data[0][1],lags=i)\n",
    "    T2, TT2, MAE21, MAE22, MAPE21, MAPE22 = VactorAutoregression(Data[1][0],Data[1][1],lags=i)\n",
    "    T3, TT3, MAE31, MAE32, MAPE31, MAPE32 = VactorAutoregression(Data[2][0],Data[2][1],lags=i)\n",
    "    T4, TT4, MAE41, MAE42, MAPE41, MAPE42 = VactorAutoregression(Data[3][0],Data[3][1],lags=i)\n",
    "    T5, TT5, MAE51, MAE52, MAPE51, MAPE52 = VactorAutoregression(Data[4][0],Data[4][1],lags=i)\n",
    "    \n",
    "    RMSET.append([T1,T2,T3,T4,T5])\n",
    "    RMSETT.append([TT1, TT2,TT3,TT4,TT5])\n",
    "    MAET = [MAE11,MAE21,MAE31,MAE41,MAE51]\n",
    "    MAETT = [MAE12,MAE22,MAE32,MAE42,MAE52]\n",
    "    MAPET = [MAPE11,MAPE21,MAPE31,MAPE41,MAPE51]\n",
    "    MAPETT = [MAPE12,MAPE22,MAPE32,MAPE42,MAPE52]\n",
    "    \n",
    "    AvgT =(T1+T2+T3+T4+T5)/5\n",
    "    AvgTT =(TT1+TT2+TT3+TT4+TT5)/5\n",
    "    \n",
    "    RMSE.append([i,AvgT,AvgTT])"
   ]
  },
  {
   "cell_type": "code",
   "execution_count": 387,
   "id": "723551b4",
   "metadata": {},
   "outputs": [
    {
     "data": {
      "text/plain": [
       "(0.34347015325011054,\n",
       " 2.1397258895551614,\n",
       " 0.2586595117560914,\n",
       " 1.6126295497935121,\n",
       " 0.10490593428697491,\n",
       " 0.29150780254827335)"
      ]
     },
     "execution_count": 387,
     "metadata": {},
     "output_type": "execute_result"
    }
   ],
   "source": [
    "VactorAutoregression(Data[0][0],Data[0][1],lags=14)"
   ]
  },
  {
   "cell_type": "code",
   "execution_count": 7,
   "id": "cfff6aa3",
   "metadata": {},
   "outputs": [
    {
     "data": {
      "text/plain": [
       "[[1, 0.3683833416448179, 0.6246125973359904],\n",
       " [2, 0.34603237097169154, 0.658269996928748],\n",
       " [3, 0.32748912080684073, 0.6640290487944702],\n",
       " [4, 0.29494766338380735, 0.6464478771045234],\n",
       " [5, 0.2818172224701091, 0.6887738060478472],\n",
       " [6, 0.2739621724529432, 0.7981337691535981],\n",
       " [7, 0.269568838408767, 0.7491766805151274],\n",
       " [8, 0.25755918395013266, 0.8428806536806096],\n",
       " [9, 0.24846124455231985, 0.845905871536004],\n",
       " [10, 0.22502233711116953, 1.1312819500496285],\n",
       " [11, 0.22000441639547447, 1.1897837321922935],\n",
       " [12, 0.19836170964395267, 1.3584975931510388],\n",
       " [13, 0.18605710895294297, 1.31277524117804],\n",
       " [14, 0.12672773646593916, 2.1162275956999244],\n",
       " [15, 1.4860883157710377e-10, 18.02376388526498],\n",
       " [16, 6.8866205469378225e-12, 2.242266030440947],\n",
       " [17, 2.387125281110345e-12, 1.219487912173553],\n",
       " [18, 1.5885926508629014e-12, 1.1365206631328464],\n",
       " [19, 1.4312329395864912e-12, 1.034084266356499]]"
      ]
     },
     "execution_count": 7,
     "metadata": {},
     "output_type": "execute_result"
    }
   ],
   "source": [
    "RMSE"
   ]
  },
  {
   "cell_type": "code",
   "execution_count": 24,
   "id": "f508b6dc",
   "metadata": {},
   "outputs": [],
   "source": [
    "RMSE = []\n",
    "RMSET = []\n",
    "RMSETT = []\n",
    "i=2\n",
    "T1, TT1, MAE11, MAE12, MAPE11, MAPE12 = VactorAutoregression(Data[0][0],Data[0][1],lags=i)\n",
    "T2, TT2, MAE21, MAE22, MAPE21, MAPE22 = VactorAutoregression(Data[1][0],Data[1][1],lags=i)\n",
    "T3, TT3, MAE31, MAE32, MAPE31, MAPE32 = VactorAutoregression(Data[2][0],Data[2][1],lags=i)\n",
    "T4, TT4, MAE41, MAE42, MAPE41, MAPE42 = VactorAutoregression(Data[3][0],Data[3][1],lags=i)\n",
    "T5, TT5, MAE51, MAE52, MAPE51, MAPE52 = VactorAutoregression(Data[4][0],Data[4][1],lags=i)\n",
    "\n",
    "RMSET.append([T1,T2,T3,T4,T5])\n",
    "RMSETT.append([TT1, TT2,TT3,TT4,TT5])\n",
    "MAET = [MAE11,MAE21,MAE31,MAE41,MAE51]\n",
    "MAETT = [MAE12,MAE22,MAE32,MAE42,MAE52]\n",
    "MAPET = [MAPE11,MAPE21,MAPE31,MAPE41,MAPE51]\n",
    "MAPETT = [MAPE12,MAPE22,MAPE32,MAPE42,MAPE52]\n",
    "\n",
    "AvgT =(T1+T2+T3+T4+T5)/5\n",
    "AvgTT =(TT1+TT2+TT3+TT4+TT5)/5\n",
    "\n",
    "RMSE.append([i,AvgT,AvgTT])"
   ]
  },
  {
   "cell_type": "code",
   "execution_count": 17,
   "id": "658db301",
   "metadata": {},
   "outputs": [
    {
     "name": "stdout",
     "output_type": "stream",
     "text": [
      "[[0.29575981259363393, 0.00033999133749396517, 0.0005281385636962977, 0.004383915507508017, 0.33262682432736357]]\n"
     ]
    }
   ],
   "source": [
    "print(RMSET)"
   ]
  },
  {
   "cell_type": "code",
   "execution_count": 18,
   "id": "2cfbc6df",
   "metadata": {},
   "outputs": [
    {
     "name": "stdout",
     "output_type": "stream",
     "text": [
      "[[5.651253769686695, 0.008587312099351083, 1.6497350135973432, 0.14076120248544627, 3.130800680630786]]\n"
     ]
    }
   ],
   "source": [
    "print(RMSETT)"
   ]
  },
  {
   "cell_type": "code",
   "execution_count": 19,
   "id": "d1417194",
   "metadata": {},
   "outputs": [
    {
     "name": "stdout",
     "output_type": "stream",
     "text": [
      "[0.21954324891810542, 0.0002665570532662161, 0.000404172101648916, 0.0034667843192035994, 0.23386817026492213]\n"
     ]
    }
   ],
   "source": [
    "print(MAET)"
   ]
  },
  {
   "cell_type": "code",
   "execution_count": 20,
   "id": "e14c2562",
   "metadata": {},
   "outputs": [
    {
     "name": "stdout",
     "output_type": "stream",
     "text": [
      "[4.7585325902594695, 0.0076880958658687715, 0.7874415956326682, 0.11550138754060915, 2.5232719220833717]\n"
     ]
    }
   ],
   "source": [
    "print(MAETT)"
   ]
  },
  {
   "cell_type": "code",
   "execution_count": 21,
   "id": "0f256163",
   "metadata": {},
   "outputs": [
    {
     "name": "stdout",
     "output_type": "stream",
     "text": [
      "[0.10116658243290079, 0.00010832289657352766, 0.14402333526544409, 0.0010583561375568798, 0.16144920773989188]\n"
     ]
    }
   ],
   "source": [
    "print(MAPET)"
   ]
  },
  {
   "cell_type": "code",
   "execution_count": 22,
   "id": "ca40cf6e",
   "metadata": {},
   "outputs": [
    {
     "name": "stdout",
     "output_type": "stream",
     "text": [
      "[0.8601785691689066, 0.0031231003353613448, 1.3567272786508866, 0.034467698420346166, 3.330568076328113]\n"
     ]
    }
   ],
   "source": [
    "print(MAPETT)"
   ]
  },
  {
   "cell_type": "code",
   "execution_count": 25,
   "id": "6b028ae0",
   "metadata": {},
   "outputs": [
    {
     "name": "stdout",
     "output_type": "stream",
     "text": [
      "[[0.7614275864758718, 0.001150647391438238, 0.014509499500552086, 0.1790507789123661, 0.7740233425782292]]\n",
      "[0.3651105868621323, 0.0009168575785026982, 0.007488896325819497, 0.07097276068061406, 0.4841161506029795]\n",
      "[0.5037407144920409, 0.00037260406129483386, 2.5111195336692753, 0.03687504532505976, 1.721379338416554]\n",
      "[[0.6102052428417611, 0.0011660610816353317, 1.423687488585428, 0.09862684924880866, 1.1576643428861066]]\n",
      "[0.5790184559433875, 0.0009447951103813135, 0.6908209076747569, 0.06300502956806411, 0.8338611080221814]\n",
      "[0.1046665663224164, 0.0003837432621704013, 0.5477978141019666, 0.018674715142763594, 0.770083634825881]\n"
     ]
    }
   ],
   "source": [
    "print(RMSET)\n",
    "print(MAET)\n",
    "print(MAPET)\n",
    "print(RMSETT)\n",
    "print(MAETT)\n",
    "print(MAPETT)"
   ]
  },
  {
   "cell_type": "code",
   "execution_count": null,
   "id": "10c4a25e",
   "metadata": {},
   "outputs": [],
   "source": []
  }
 ],
 "metadata": {
  "kernelspec": {
   "display_name": "Python [conda env:py38] *",
   "language": "python",
   "name": "conda-env-py38-py"
  },
  "language_info": {
   "codemirror_mode": {
    "name": "ipython",
    "version": 3
   },
   "file_extension": ".py",
   "mimetype": "text/x-python",
   "name": "python",
   "nbconvert_exporter": "python",
   "pygments_lexer": "ipython3",
   "version": "3.8.12"
  }
 },
 "nbformat": 4,
 "nbformat_minor": 5
}
