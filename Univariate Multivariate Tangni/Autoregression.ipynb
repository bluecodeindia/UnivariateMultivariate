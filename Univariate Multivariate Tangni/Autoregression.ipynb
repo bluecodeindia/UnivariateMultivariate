{
 "cells": [
  {
   "cell_type": "code",
   "execution_count": 28,
   "id": "8045244d",
   "metadata": {},
   "outputs": [],
   "source": [
    "from pandas import read_csv\n",
    "from matplotlib import pyplot\n",
    "from statsmodels.tsa.ar_model import AutoReg\n",
    "from sklearn.metrics import mean_squared_error\n",
    "from sklearn.metrics import mean_absolute_error\n",
    "from sklearn.metrics import mean_absolute_percentage_error\n",
    "from math import sqrt\n",
    "import numpy as np"
   ]
  },
  {
   "cell_type": "code",
   "execution_count": 43,
   "id": "cc9e6adb",
   "metadata": {},
   "outputs": [],
   "source": [
    "PATH_TO_TEST_TRAIN_DATA = 'Tangni/Data/'\n",
    "\n",
    "#### define dataset\n",
    "series1 = read_csv(PATH_TO_TEST_TRAIN_DATA + '1-3.csv', header=0, usecols=[0,1], index_col=0) \n",
    "data1 = series1.values\n",
    "\n",
    "series2 = read_csv(PATH_TO_TEST_TRAIN_DATA + '2-12.csv', header=0, usecols=[0,1], index_col=0) \n",
    "data2 = series2.values\n",
    "\n",
    "series3 = read_csv(PATH_TO_TEST_TRAIN_DATA + '3-6.csv', header=0, usecols=[0,1], index_col=0) \n",
    "data3 = series3.values\n",
    "\n",
    "series4 = read_csv(PATH_TO_TEST_TRAIN_DATA + '4-15.csv', header=0, usecols=[0,1], index_col=0) \n",
    "data4 = series4.values\n",
    "\n",
    "series5 = read_csv(PATH_TO_TEST_TRAIN_DATA + '5-15.csv', header=0, usecols=[0,1], index_col=0) \n",
    "data5 = series5.values"
   ]
  },
  {
   "cell_type": "code",
   "execution_count": 44,
   "id": "ff433989",
   "metadata": {},
   "outputs": [],
   "source": [
    "\n",
    "\n",
    "# train, test = X[:62], X[62:]\n",
    "# # train autoregression\n",
    "# model = AutoReg(train, lags=1)\n",
    "# model_fit = model.fit()\n",
    "# # print('Coefficients: %s' % model_fit.params)\n",
    "# # make predictions\n",
    "# trainpredictions = model_fit.predict(start=0, end=62, dynamic=False)\n",
    "# predictions = model_fit.predict(start=len(train), end=len(train)+len(test)-1, dynamic=False)\n",
    "# # for i in range(len(predictions)):\n",
    "# # \tprint('predicted=%f, expected=%f' % (predictions[i], test[i]))\n",
    "# trainrmse = sqrt(mean_squared_error(train, trainpredictions))\n",
    "# rmse = sqrt(mean_squared_error(test, predictions))\n",
    "# print('Train RMSE: %.3f' % trainrmse)\n",
    "# print('Test RMSE: %.3f' % rmse)\n",
    "# # plot results\n",
    "# pyplot.plot(test)\n",
    "# pyplot.plot(predictions, color='red')\n",
    "# pyplot.show()"
   ]
  },
  {
   "cell_type": "code",
   "execution_count": 45,
   "id": "f714733c",
   "metadata": {},
   "outputs": [],
   "source": [
    "def Autoregression(train,test,lags=1):\n",
    "    # train autoregression\n",
    "    model = AutoReg(train, lags=lags)\n",
    "    model_fit = model.fit()\n",
    "    # print('Coefficients: %s' % model_fit.params)\n",
    "    # make predictions\n",
    "    trainpredictions = model_fit.predict(start=0, end=62, dynamic=False)\n",
    "    predictions = model_fit.predict(start=len(train), end=len(train)+len(test)-1, dynamic=False)\n",
    "    # for i in range(len(predictions)):\n",
    "    # \tprint('predicted=%f, expected=%f' % (predictions[i], test[i]))\n",
    "    \n",
    "    trainrmse = sqrt(mean_squared_error(train[lags-1:], trainpredictions))\n",
    "    rmse = sqrt(mean_squared_error(test, predictions))\n",
    "    return trainrmse, rmse"
   ]
  },
  {
   "cell_type": "code",
   "execution_count": 46,
   "id": "26dc85a2",
   "metadata": {},
   "outputs": [],
   "source": [
    "\n",
    "Data = [[data1[:62],data1[62:]],[data2[:62],data2[62:]],[data3[:62],data3[62:]],[data4[:62],data4[62:]],[data5[:62],data5[62:]]]\n"
   ]
  },
  {
   "cell_type": "code",
   "execution_count": 6,
   "id": "a1a4e4c1",
   "metadata": {},
   "outputs": [
    {
     "data": {
      "text/plain": [
       "(0.2796860838869437, 1.0900710807333311)"
      ]
     },
     "execution_count": 6,
     "metadata": {},
     "output_type": "execute_result"
    }
   ],
   "source": [
    "Autoregression(Data[0][0],Data[0][1],lags=2)"
   ]
  },
  {
   "cell_type": "code",
   "execution_count": 10,
   "id": "7ac1a512",
   "metadata": {},
   "outputs": [],
   "source": [
    "RMSE = []\n",
    "RMSET = []\n",
    "RMSETT = []\n",
    "for i in range(1,20):\n",
    "    T1, TT1 = Autoregression(Data[0][0],Data[0][1],lags=i)\n",
    "    T2, TT2 = Autoregression(Data[1][0],Data[1][1],lags=i)\n",
    "    T3, TT3 = Autoregression(Data[2][0],Data[2][1],lags=i)\n",
    "    T4, TT4 = Autoregression(Data[3][0],Data[3][1],lags=i)\n",
    "    T5, TT5 = Autoregression(Data[4][0],Data[4][1],lags=i)\n",
    "    \n",
    "    RMSET.append([T1,T2,T3,T4,T5])\n",
    "    RMSETT.append([TT1, TT2,TT3,TT4,TT5])\n",
    "    AvgT =(T1+T2+T3+T4+T5)/5\n",
    "    AvgTT =(TT1+TT2+TT3+TT4+TT5)/5\n",
    "    \n",
    "    RMSE.append([i,AvgT,AvgTT])"
   ]
  },
  {
   "cell_type": "code",
   "execution_count": 11,
   "id": "d9de733e",
   "metadata": {},
   "outputs": [
    {
     "data": {
      "text/plain": [
       "[[1, 0.1493113264821814, 0.7268855060380013],\n",
       " [2, 0.16157089091753946, 0.8124232187746887],\n",
       " [3, 0.1877635408509189, 0.7330678610719564],\n",
       " [4, 0.2201636092144681, 0.6966416731875963],\n",
       " [5, 0.17249254332282743, 0.7159791436130756],\n",
       " [6, 0.17623533948200484, 0.6734616614030886],\n",
       " [7, 0.2045058368893832, 0.7353175815770305],\n",
       " [8, 0.20642452069818212, 0.7583451931671503],\n",
       " [9, 0.21162408023288898, 0.7438989138142131],\n",
       " [10, 0.21631867680833028, 0.7417923319847519],\n",
       " [11, 0.22330553699526487, 0.7911420971816914],\n",
       " [12, 0.2282905833107672, 0.790239202518519],\n",
       " [13, 0.23459990196417868, 0.8145693689512428],\n",
       " [14, 0.254774728200047, 0.89042970500293],\n",
       " [15, 0.26100108909715786, 0.9080770640596022],\n",
       " [16, 0.2320250370565816, 0.7570480878131269],\n",
       " [17, 0.2349898224968201, 0.6868808279677252],\n",
       " [18, 0.2434947207884465, 0.7469503668483772],\n",
       " [19, 0.2500279960047059, 0.7698705935439731]]"
      ]
     },
     "execution_count": 11,
     "metadata": {},
     "output_type": "execute_result"
    }
   ],
   "source": [
    "RMSE"
   ]
  },
  {
   "cell_type": "code",
   "execution_count": 32,
   "id": "65c3dfaf",
   "metadata": {},
   "outputs": [],
   "source": [
    "def Autoregression2(train,test,lags=1):\n",
    "    # train autoregression\n",
    "    model = AutoReg(train, lags=lags)\n",
    "    model_fit = model.fit()\n",
    "    # print('Coefficients: %s' % model_fit.params)\n",
    "    # make predictions\n",
    "    trainpredictions = model_fit.predict(start=0, end=62, dynamic=False)\n",
    "    predictions = model_fit.predict(start=len(train), end=len(train)+len(test)-1, dynamic=False)\n",
    "    # for i in range(len(predictions)):\n",
    "    # \tprint('predicted=%f, expected=%f' % (predictions[i], test[i]))\n",
    "    \n",
    "    RMSE  = sqrt(mean_squared_error(train[lags-1:], trainpredictions))\n",
    "    RMSET = sqrt(mean_squared_error(test, predictions))\n",
    "    MAE   = mean_absolute_error(train[lags-1:], trainpredictions)\n",
    "    MAET  = mean_absolute_error(test, predictions)\n",
    "    MAPE  = mean_absolute_percentage_error(train[lags-1:], trainpredictions)\n",
    "    MAPET = mean_absolute_percentage_error(test, predictions)\n",
    "    return np.array([RMSE, RMSET, MAE, MAET, MAPE, MAPET])"
   ]
  },
  {
   "cell_type": "code",
   "execution_count": 47,
   "id": "69b9ac68",
   "metadata": {},
   "outputs": [],
   "source": [
    "E1 = Autoregression2(Data[0][0],Data[0][1],lags=1)\n",
    "E2 = Autoregression2(Data[1][0],Data[1][1],lags=1)\n",
    "E3 = Autoregression2(Data[2][0],Data[2][1],lags=1)\n",
    "E4 = Autoregression2(Data[3][0],Data[3][1],lags=1)\n",
    "E5 = Autoregression2(Data[4][0],Data[4][1],lags=1)"
   ]
  },
  {
   "cell_type": "code",
   "execution_count": 67,
   "id": "c47bedd6",
   "metadata": {},
   "outputs": [
    {
     "name": "stdout",
     "output_type": "stream",
     "text": [
      "[0.2207051  0.74416719 0.19701446 0.69395123 0.16277481 0.12544245]\n"
     ]
    }
   ],
   "source": [
    "print(E1)"
   ]
  },
  {
   "cell_type": "code",
   "execution_count": 59,
   "id": "c74a7b0a",
   "metadata": {},
   "outputs": [
    {
     "name": "stdout",
     "output_type": "stream",
     "text": [
      "[1.03371086e-01 1.19894929e-06 1.32526927e-02 1.19894616e-06\n",
      " 7.98456293e-03 4.87195039e-07]\n"
     ]
    }
   ],
   "source": [
    "print(E2)"
   ]
  },
  {
   "cell_type": "code",
   "execution_count": 60,
   "id": "c3cfed4d",
   "metadata": {},
   "outputs": [
    {
     "name": "stdout",
     "output_type": "stream",
     "text": [
      "[0.0159074  1.55618721 0.00756198 0.74927892 4.81394576 0.69972076]\n"
     ]
    }
   ],
   "source": [
    "print(E3)"
   ]
  },
  {
   "cell_type": "code",
   "execution_count": 61,
   "id": "ba674795",
   "metadata": {},
   "outputs": [
    {
     "name": "stdout",
     "output_type": "stream",
     "text": [
      "[0.17157356 0.09553332 0.05296465 0.07169231 4.0772916  0.02143506]\n"
     ]
    }
   ],
   "source": [
    "print(E4)"
   ]
  },
  {
   "cell_type": "code",
   "execution_count": 62,
   "id": "a799081f",
   "metadata": {},
   "outputs": [
    {
     "name": "stdout",
     "output_type": "stream",
     "text": [
      "[0.23499949 1.23853862 0.20586721 1.09031117 1.1204109  1.01615631]\n"
     ]
    }
   ],
   "source": [
    "print(E5)"
   ]
  },
  {
   "cell_type": "code",
   "execution_count": 63,
   "id": "1a2904c4",
   "metadata": {},
   "outputs": [],
   "source": [
    "M=E1+E2+E3+E4+E5"
   ]
  },
  {
   "cell_type": "code",
   "execution_count": 64,
   "id": "690ed635",
   "metadata": {},
   "outputs": [],
   "source": [
    "M=M/5"
   ]
  },
  {
   "cell_type": "code",
   "execution_count": 65,
   "id": "040ba768",
   "metadata": {},
   "outputs": [
    {
     "name": "stdout",
     "output_type": "stream",
     "text": [
      "[0.14931133 0.72688551 0.0953322  0.52104697 2.03648153 0.37255101]\n"
     ]
    }
   ],
   "source": [
    "print(M)"
   ]
  },
  {
   "cell_type": "code",
   "execution_count": 72,
   "id": "14b9bf84",
   "metadata": {},
   "outputs": [
    {
     "data": {
      "text/plain": [
       "0.103371086"
      ]
     },
     "execution_count": 72,
     "metadata": {},
     "output_type": "execute_result"
    }
   ],
   "source": [
    "1.03371086e-01"
   ]
  },
  {
   "cell_type": "code",
   "execution_count": 74,
   "id": "2e277718",
   "metadata": {},
   "outputs": [
    {
     "name": "stdout",
     "output_type": "stream",
     "text": [
      "0.2207050969604075 0.1033710860415063 0.01590739711873246 0.1715735617638277 0.23499949052643299\n",
      "0.1970144623403585 0.013252692680932576 0.007561975857429869 0.05296464949424257 0.20586720953421547\n",
      "0.16277480829959035 0.007984562931081839 4.813945759443575 4.077291601587211 1.1204108997371938\n",
      "0.7441671855513384 1.1989492891633446e-06 1.5561872072268865 0.0955333213402928 1.2385386171221997\n",
      "0.6939512284335083 1.1989461569106297e-06 0.7492789225622091 0.07169230894639597 1.0903111717614775\n",
      "0.12544244752443565 4.871950392726701e-07 0.699720760359003 0.0214350623924806 1.0161563080910059\n"
     ]
    }
   ],
   "source": [
    "print(E1[0],E2[0],E3[0],E4[0],E5[0])\n",
    "print(E1[2],E2[2],E3[2],E4[2],E5[2])\n",
    "print(E1[4],E2[4],E3[4],E4[4],E5[4])\n",
    "print(E1[1],E2[1],E3[1],E4[1],E5[1])\n",
    "print(E1[3],E2[3],E3[3],E4[3],E5[3])\n",
    "print(E1[5],E2[5],E3[5],E4[5],E5[5])"
   ]
  },
  {
   "cell_type": "code",
   "execution_count": null,
   "id": "eb80f74a",
   "metadata": {},
   "outputs": [],
   "source": []
  }
 ],
 "metadata": {
  "kernelspec": {
   "display_name": "Python [conda env:py38] *",
   "language": "python",
   "name": "conda-env-py38-py"
  },
  "language_info": {
   "codemirror_mode": {
    "name": "ipython",
    "version": 3
   },
   "file_extension": ".py",
   "mimetype": "text/x-python",
   "name": "python",
   "nbconvert_exporter": "python",
   "pygments_lexer": "ipython3",
   "version": "3.8.12"
  }
 },
 "nbformat": 4,
 "nbformat_minor": 5
}
