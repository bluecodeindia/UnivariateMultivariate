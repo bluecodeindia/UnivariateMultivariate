{
 "cells": [
  {
   "cell_type": "code",
   "execution_count": 20,
   "id": "21998360",
   "metadata": {},
   "outputs": [],
   "source": [
    "\n",
    "\n",
    "import numpy as np\n",
    "from sklearn import datasets\n",
    "import seaborn as sns\n",
    "import pandas as pd\n",
    "from pandas import read_csv\n",
    "import matplotlib.pyplot as plt\n",
    "from sklearn.model_selection import train_test_split\n",
    "from sklearn.metrics import confusion_matrix\n",
    "\n",
    "tol = 0.01\n",
    "eps = 0.01\n",
    "\n"
   ]
  },
  {
   "cell_type": "code",
   "execution_count": 50,
   "id": "a69b6cb1",
   "metadata": {},
   "outputs": [],
   "source": [
    "class SMOModel:\n",
    "    def __init__(self,X,Y,C,b,kernel):\n",
    "        self.m = Y.shape[0]\n",
    "        self.y = Y\n",
    "        self.X = X\n",
    "        self.C = C\n",
    "        self.b = b\n",
    "        self.kernel = kernel\n",
    "        self.alphas = np.zeros(self.m)\n",
    "        self.errors = decision_function(self.alphas, self.y, self.kernel,self.X, self.X, self.b) - self.y\n"
   ]
  },
  {
   "cell_type": "code",
   "execution_count": 198,
   "id": "89e79f18",
   "metadata": {},
   "outputs": [],
   "source": [
    "def gaussian_kernel(x, y, sigma=1):\n",
    "    if np.ndim(x) == 1 and np.ndim(y) == 1:\n",
    "        result = np.exp(- (np.linalg.norm(x - y, 2)) ** 2 / (2 * sigma ** 2))\n",
    "    elif (np.ndim(x) > 1 and np.ndim(y) == 1) or (np.ndim(x) == 1 and np.ndim(y) > 1):\n",
    "        result = np.exp(- (np.linalg.norm(x - y, 2, axis=1) ** 2) / (2 * sigma ** 2))\n",
    "    elif np.ndim(x) > 1 and np.ndim(y) > 1:\n",
    "        result = np.exp(- (np.linalg.norm(x[:, np.newaxis] - y[np.newaxis, :], 2, axis=2) ** 2) / (2 * sigma ** 2))\n",
    "    return result\n",
    "\n",
    "def linear_kernel(X1,X2):\n",
    "    return np.inner(X1,X2)\n",
    "\n",
    "def objective_function(alphas, y, kernel, X):\n",
    "    return np.sum(alphas) - 0.5 * np.sum((y[:, None] * y[None, :]) * kernel(X, X) * (alphas[:, None] * alphas[None, :]))\n",
    "\n",
    "def decision_function(alphas, y, kernel, X_train, x_test, b):\n",
    "    result = (alphas * y) @ kernel(X_train, x_test) - b\n",
    "    return result"
   ]
  },
  {
   "cell_type": "code",
   "execution_count": 256,
   "id": "319d1c82",
   "metadata": {},
   "outputs": [],
   "source": [
    "def takeStep(i1, i2, model):\n",
    "    \n",
    "    if i1 == i2: #If the alphas are the same - skip\n",
    "        return 0, model\n",
    "    \n",
    "    # Extraction of the variables from the cache\n",
    "    alph1 = model.alphas[i1]\n",
    "    alph2 = model.alphas[i2]\n",
    "    y1 = model.y[i1]\n",
    "    y2 = model.y[i2]\n",
    "    E1 = model.errors[i1]\n",
    "    E2 = model.errors[i2]\n",
    "    \n",
    "    s = y1*y2\n",
    "    \n",
    "    #Calculate the upper and lower boundary (depending on the value of the labels y1 & y2)\n",
    "    if y1 == y2:\n",
    "        L = max(0 , alph1 + alph2 - model.C)\n",
    "        H = min(model.C, alph1 + alph2)\n",
    "    else:\n",
    "        L = max(0, alph2 - alph1)\n",
    "        H = min(model.C, model.C + alph2 - alph1)\n",
    "     \n",
    "    #Skip if the lower and the upper bounds are the same\n",
    "    if L == H:\n",
    "        return 0, model\n",
    "    \n",
    "    #Compute the differnet kernels\n",
    "    k11 = model.kernel(model.X[i1],model.X[i1])\n",
    "    k12 = model.kernel(model.X[i1],model.X[i2])\n",
    "    k22 = model.kernel(model.X[i2],model.X[i2])\n",
    "    \n",
    "    #Compute eta\n",
    "    eta = k11 + k22 - 2*k12\n",
    "    \n",
    "    #If eta is positive - compute a2 as function of the old a2, the errors, the label and eta.\n",
    "    #(This solution can be reached analytically without the need for complicated optimization,\n",
    "    #which is the advantage of the SMO algorithm)\n",
    "    if eta > 0:\n",
    "        a2 = alph2 + (y2*(E1 -E2))/eta\n",
    "        \n",
    "        #Clip a2 by the bounds L and H\n",
    "        if a2 < L:\n",
    "            a2 = L\n",
    "        elif a2 > H:\n",
    "            a2 = H\n",
    "    else:\n",
    "        #Here we make copy because we don't want to chahge the original alphas values, we just wanna to compute the\n",
    "        #different objective functions for a2.\n",
    "        alphas_adj = model.alphas.copy()\n",
    "        \n",
    "        alphas_adj[i2] = L\n",
    "        Lobj = objective_function(alphas_adj, model.y, model.kernel, model.X) # Objective function at a2=L\n",
    "        \n",
    "        alphas_adj[i2] = H\n",
    "        Hobj = objective_function(alphas_adj, model.y, model.kernel, model.X) # Objective function at a2=H\n",
    "        \n",
    "        #Clip a2 at the same way as mentioned in the article\n",
    "        if Lobj < (Hobj - eps):\n",
    "            a2 = L\n",
    "        elif Lobj > (Hobj + eps):\n",
    "            a2 = H\n",
    "        else:\n",
    "            a2 = alph2\n",
    "    \n",
    "    #If a2 value is very small - enter a value of 0        \n",
    "    if a2 < 1e-8:\n",
    "        a2 = 0.0\n",
    "    elif a2 > (model.C - 1e-8):\n",
    "        a2 = model.C\n",
    "    \n",
    "    #Skip this step if the change in a2 is less than *eps(a2_new + a2_old + eps)       \n",
    "    if abs(a2 - alph2) < eps*(a2+alph2+eps):\n",
    "        return 0, model\n",
    "    \n",
    "    #Compute a1 as a function of the old a1, a2 and s.\n",
    "    #(This solution can be reached analytically without the need for complicated optimization,\n",
    "    #which is the advantage of the SMO algorithm)\n",
    "    a1 = alph1 + s*(alph2 - a2)\n",
    "      \n",
    "    # Update value of the threshold b by the new a1 & a2, Compute both possible values for the new treshold.\n",
    "    b1 = E1 + y1 * (a1 - alph1) * k11 + y2 * (a2 - alph2) * k12 + model.b\n",
    "    b2 = E2 + y1 * (a1 - alph1) * k12 + y2 * (a2 - alph2) * k22 + model.b\n",
    "     \n",
    "    #Update the threshold according to the a that does not violate the conditions, \n",
    "    #if both don't violate the conditions than new_b = average of a1 and a2 \n",
    "    if 0 < a1 and a1 < model.C:\n",
    "        b = b1\n",
    "    elif 0 < a2 and a2 < model.C:\n",
    "        b = b2\n",
    "    else:\n",
    "        b = (b1 + b2) * 0.5\n",
    "    \n",
    "    #Push the new alphas values to cache\n",
    "    model.alphas[i1] = a1\n",
    "    model.alphas[i2] = a2\n",
    "\n",
    "    #Update error cache to 0 if a1 ,a2 are in the bounds range\n",
    "    for index, alph in zip([i1, i2], [a1, a2]):\n",
    "        if 0.0 < alph and alph < model.C:\n",
    "            model.errors[index] = 0.0\n",
    "     \n",
    "    \n",
    "    #Update error cache of the other alpahs\n",
    "    NonOpt = list(filter(lambda n: n != i1 and n != i2, list(range(model.m))))\n",
    "    \n",
    "    model.errors[NonOpt] = model.errors[NonOpt] + y1*(a1 - alph1)*model.kernel(model.X[i1], model.X[NonOpt]) +y2*(a2 - alph2)*model.kernel(model.X[i2], model.X[NonOpt]) + model.b - b\n",
    "    \n",
    "    #Update b\n",
    "    model.b = b\n",
    "    \n",
    "    return 1, model\n"
   ]
  },
  {
   "cell_type": "code",
   "execution_count": 257,
   "id": "cb3e8a93",
   "metadata": {},
   "outputs": [],
   "source": [
    "def examineExample(i2, model):\n",
    "    \n",
    "    y2 = model.y[i2]\n",
    "    alph2 = model.alphas[i2]\n",
    "    E2 = model.errors[i2]\n",
    "    r2 = E2*y2\n",
    "    \n",
    "    if ((r2 < -tol and alph2 < model.C) or (r2 > tol and alph2 > 0)):\n",
    "        #if (number of non-zero & non-C alpha > 1)\n",
    "        if len(model.alphas[(model.alphas != 0) & (model.alphas != model.C)]) > 1:\n",
    "            \n",
    "            #This is the heuristic method I found online\n",
    "            if model.errors[i2] > 0:\n",
    "                i1 = np.argmin(model.errors)\n",
    "            elif model.errors[i2] <= 0:\n",
    "                i1 = np.argmax(model.errors) \n",
    "                \n",
    "            step, model = takeStep(i1, i2, model)\n",
    "            \n",
    "            if step:\n",
    "                return 1, model\n",
    "         \n",
    "        #loop over all non-zero and non-C alpha, starting at a random point\n",
    "        for i1 in np.roll(np.where((model.alphas != 0) & (model.alphas != model.C))[0], np.random.choice(np.arange(model.m))):\n",
    "            step, model = takeStep(i1, i2, model)\n",
    "            if step:\n",
    "                return 1, model\n",
    "        \n",
    "        #loop over all possible i1, starting at a random point\n",
    "        for i1 in np.roll(np.arange(model.m), np.random.choice(np.arange(model.m))):\n",
    "            step, model = takeStep(i1, i2, model)\n",
    "            if step:\n",
    "                return 1, model\n",
    "            \n",
    "    return 0, model"
   ]
  },
  {
   "cell_type": "code",
   "execution_count": 258,
   "id": "1a9b39bd",
   "metadata": {},
   "outputs": [],
   "source": [
    "def train(model):\n",
    "    numChanged = 0\n",
    "    examineAll = 1\n",
    "\n",
    "    while numChanged > 0 or examineAll:\n",
    "        numChanged = 0\n",
    "        if examineAll:\n",
    "            \n",
    "            for i in range(model.m):\n",
    "                res , model = examineExample(i, model)\n",
    "                numChanged += res\n",
    "                \n",
    "        else:\n",
    "            for i in np.where((model.alphas != 0) & (model.alphas != model.C))[0]:\n",
    "                res , model = examineExample(i, model)\n",
    "                numChanged += res\n",
    "                \n",
    "        if examineAll == 1:\n",
    "            examineAll = 0\n",
    "        elif numChanged == 0:\n",
    "            examineAll = 1\n",
    "    return model"
   ]
  },
  {
   "cell_type": "code",
   "execution_count": 259,
   "id": "9c3ab9ff",
   "metadata": {},
   "outputs": [],
   "source": [
    "def predict(model,X_test):\n",
    "    result = np.zeros(X_test.shape[0])\n",
    "  \n",
    "    for i in range(X_test.shape[0]):\n",
    "       \n",
    "        result[i] = decision_function(model.alphas, model.y, model.kernel, model.X, X_test[i], model.b)\n",
    "        \n",
    "    return result"
   ]
  },
  {
   "cell_type": "code",
   "execution_count": 260,
   "id": "5ce96b0f",
   "metadata": {},
   "outputs": [],
   "source": [
    "PATH_TO_TEST_TRAIN_DATA = 'Tangni/Data/'\n",
    "\n",
    "#### define dataset\n",
    "series1 = read_csv(PATH_TO_TEST_TRAIN_DATA + '1-3.csv', header=0, usecols=[0,1], index_col=0) \n",
    "data1 = series1.values\n",
    "\n",
    "series2 = read_csv(PATH_TO_TEST_TRAIN_DATA + '2-12.csv', header=0, usecols=[0,1], index_col=0) \n",
    "data2 = series2.values\n",
    "\n",
    "series3 = read_csv(PATH_TO_TEST_TRAIN_DATA + '3-6.csv', header=0, usecols=[0,1], index_col=0) \n",
    "data3 = series3.values\n",
    "\n",
    "series4 = read_csv(PATH_TO_TEST_TRAIN_DATA + '4-15.csv', header=0, usecols=[0,1], index_col=0) \n",
    "data4 = series4.values\n",
    "\n",
    "series5 = read_csv(PATH_TO_TEST_TRAIN_DATA + '5-15.csv', header=0, usecols=[0,1], index_col=0) \n",
    "data5 = series5.values\n"
   ]
  },
  {
   "cell_type": "code",
   "execution_count": null,
   "id": "23cb2196",
   "metadata": {},
   "outputs": [],
   "source": []
  },
  {
   "cell_type": "code",
   "execution_count": 261,
   "id": "b725af2c",
   "metadata": {},
   "outputs": [],
   "source": [
    "Data = data5[:62]"
   ]
  },
  {
   "cell_type": "code",
   "execution_count": 262,
   "id": "4df77baf",
   "metadata": {},
   "outputs": [],
   "source": [
    "Label =Data[1:]"
   ]
  },
  {
   "cell_type": "code",
   "execution_count": 263,
   "id": "43d08927",
   "metadata": {},
   "outputs": [],
   "source": [
    "X_train, y_train = Data[:-1], Label.reshape((len(Label)))"
   ]
  },
  {
   "cell_type": "code",
   "execution_count": 280,
   "id": "5d5fc69f",
   "metadata": {},
   "outputs": [],
   "source": [
    "model = SMOModel(X_train, y_train, C=100, b=1, kernel=gaussian_kernel)\n",
    "    \n",
    "np.random.seed(0)\n",
    "model = train(model)"
   ]
  },
  {
   "cell_type": "code",
   "execution_count": null,
   "id": "f80ffe41",
   "metadata": {},
   "outputs": [],
   "source": []
  },
  {
   "cell_type": "code",
   "execution_count": 281,
   "id": "754d6b2d",
   "metadata": {},
   "outputs": [],
   "source": [
    "pre = predict(model, X_train)"
   ]
  },
  {
   "cell_type": "code",
   "execution_count": 282,
   "id": "a2cb3364",
   "metadata": {},
   "outputs": [
    {
     "data": {
      "text/plain": [
       "[<matplotlib.lines.Line2D at 0x7fd0841bb970>]"
      ]
     },
     "execution_count": 282,
     "metadata": {},
     "output_type": "execute_result"
    },
    {
     "data": {
      "image/png": "[encoded data removed]",
      "text/plain": [
       "<Figure size 432x288 with 1 Axes>"
      ]
     },
     "metadata": {
      "needs_background": "light"
     },
     "output_type": "display_data"
    }
   ],
   "source": [
    "plt.plot(pre)\n",
    "plt.plot(y_train)"
   ]
  },
  {
   "cell_type": "code",
   "execution_count": null,
   "id": "04fcc329",
   "metadata": {},
   "outputs": [],
   "source": []
  },
  {
   "cell_type": "code",
   "execution_count": null,
   "id": "e27fd8d1",
   "metadata": {},
   "outputs": [],
   "source": []
  }
 ],
 "metadata": {
  "kernelspec": {
   "display_name": "Python [conda env:py38] *",
   "language": "python",
   "name": "conda-env-py38-py"
  },
  "language_info": {
   "codemirror_mode": {
    "name": "ipython",
    "version": 3
   },
   "file_extension": ".py",
   "mimetype": "text/x-python",
   "name": "python",
   "nbconvert_exporter": "python",
   "pygments_lexer": "ipython3",
   "version": "3.8.12"
  }
 },
 "nbformat": 4,
 "nbformat_minor": 5
}
