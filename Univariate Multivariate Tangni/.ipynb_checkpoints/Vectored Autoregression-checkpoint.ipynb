{
 "cells": [
  {
   "cell_type": "code",
   "execution_count": 1,
   "id": "69825f59",
   "metadata": {},
   "outputs": [],
   "source": [
    "from pandas import read_csv\n",
    "from matplotlib import pyplot\n",
    "from statsmodels.tsa.ar_model import AutoReg\n",
    "from sklearn.metrics import mean_squared_error\n",
    "from math import sqrt\n"
   ]
  },
  {
   "cell_type": "code",
   "execution_count": 4,
   "id": "12eb6dca",
   "metadata": {},
   "outputs": [],
   "source": [
    "PATH_TO_TEST_TRAIN_DATA = 'Tangni/Data/'\n",
    "\n",
    "#### define dataset\n",
    "series1 = read_csv(PATH_TO_TEST_TRAIN_DATA + '1-3.csv', header=0, usecols=[0,1], index_col=0) \n",
    "data1 = series1.values\n",
    "\n",
    "series2 = read_csv(PATH_TO_TEST_TRAIN_DATA + '2-12.csv', header=0, usecols=[0,1], index_col=0) \n",
    "data2 = series2.values\n",
    "\n",
    "series3 = read_csv(PATH_TO_TEST_TRAIN_DATA + '3-6.csv', header=0, usecols=[0,1], index_col=0) \n",
    "data3 = series3.values\n",
    "\n",
    "series4 = read_csv(PATH_TO_TEST_TRAIN_DATA + '4-15.csv', header=0, usecols=[0,1], index_col=0) \n",
    "data4 = series4.values\n",
    "\n",
    "series5 = read_csv(PATH_TO_TEST_TRAIN_DATA + '5-15.csv', header=0, usecols=[0,1], index_col=0) \n",
    "data5 = series5.values"
   ]
  },
  {
   "cell_type": "code",
   "execution_count": null,
   "id": "f9b7b501",
   "metadata": {},
   "outputs": [],
   "source": []
  },
  {
   "cell_type": "code",
   "execution_count": 78,
   "id": "83e76636",
   "metadata": {},
   "outputs": [],
   "source": [
    "X = data5"
   ]
  },
  {
   "cell_type": "code",
   "execution_count": 79,
   "id": "d0cb20ad",
   "metadata": {},
   "outputs": [
    {
     "name": "stdout",
     "output_type": "stream",
     "text": [
      "Train RMSE: 0.235\n",
      "Test RMSE: 1.239\n"
     ]
    },
    {
     "data": {
      "image/png": "[encoded data removed]",
      "text/plain": [
       "<Figure size 432x288 with 1 Axes>"
      ]
     },
     "metadata": {
      "needs_background": "light"
     },
     "output_type": "display_data"
    }
   ],
   "source": [
    "\n",
    "\n",
    "train, test = X[:62], X[62:]\n",
    "# train autoregression\n",
    "model = AutoReg(train, lags=1)\n",
    "model_fit = model.fit()\n",
    "# print('Coefficients: %s' % model_fit.params)\n",
    "# make predictions\n",
    "trainpredictions = model_fit.predict(start=0, end=62, dynamic=False)\n",
    "predictions = model_fit.predict(start=len(train), end=len(train)+len(test)-1, dynamic=False)\n",
    "# for i in range(len(predictions)):\n",
    "# \tprint('predicted=%f, expected=%f' % (predictions[i], test[i]))\n",
    "trainrmse = sqrt(mean_squared_error(train, trainpredictions))\n",
    "rmse = sqrt(mean_squared_error(test, predictions))\n",
    "print('Train RMSE: %.3f' % trainrmse)\n",
    "print('Test RMSE: %.3f' % rmse)\n",
    "# plot results\n",
    "pyplot.plot(test)\n",
    "pyplot.plot(predictions, color='red')\n",
    "pyplot.show()"
   ]
  },
  {
   "cell_type": "code",
   "execution_count": 69,
   "id": "21bcd014",
   "metadata": {},
   "outputs": [],
   "source": [
    "def Autoregression(train,test,lags=1):\n",
    "    # train autoregression\n",
    "    model = AutoReg(train, lags=lags)\n",
    "    model_fit = model.fit()\n",
    "    # print('Coefficients: %s' % model_fit.params)\n",
    "    # make predictions\n",
    "    trainpredictions = model_fit.predict(start=0, end=62, dynamic=False)\n",
    "    predictions = model_fit.predict(start=len(train), end=len(train)+len(test)-1, dynamic=False)\n",
    "    # for i in range(len(predictions)):\n",
    "    # \tprint('predicted=%f, expected=%f' % (predictions[i], test[i]))\n",
    "    \n",
    "    trainrmse = sqrt(mean_squared_error(train[lags-1:], trainpredictions))\n",
    "    rmse = sqrt(mean_squared_error(test, predictions))\n",
    "    return trainrmse, rmse"
   ]
  },
  {
   "cell_type": "code",
   "execution_count": 70,
   "id": "8c2e3f77",
   "metadata": {},
   "outputs": [],
   "source": [
    "\n",
    "Data = [[data1[:62],data1[62:]],[data2[:62],data2[62:]],[data3[:62],data3[62:]],[data4[:62],data4[62:]],[data5[:62],data5[62:]]]\n"
   ]
  },
  {
   "cell_type": "code",
   "execution_count": 71,
   "id": "80645412",
   "metadata": {},
   "outputs": [
    {
     "data": {
      "text/plain": [
       "(0.2796860838869437, 1.0900710807333311)"
      ]
     },
     "execution_count": 71,
     "metadata": {},
     "output_type": "execute_result"
    }
   ],
   "source": [
    "Autoregression(Data[0][0],Data[0][1],lags=2)"
   ]
  },
  {
   "cell_type": "code",
   "execution_count": 80,
   "id": "2c0f3262",
   "metadata": {},
   "outputs": [],
   "source": [
    "RMSE = []\n",
    "RMSET = []\n",
    "RMSETT = []\n",
    "for i in range(1,6):\n",
    "    T1, TT1 = Autoregression(Data[0][0],Data[0][1],lags=i)\n",
    "    T2, TT2 = Autoregression(Data[1][0],Data[1][1],lags=i)\n",
    "    T3, TT3 = Autoregression(Data[2][0],Data[2][1],lags=i)\n",
    "    T4, TT4 = Autoregression(Data[3][0],Data[3][1],lags=i)\n",
    "    T5, TT5 = Autoregression(Data[4][0],Data[4][1],lags=i)\n",
    "    \n",
    "    RMSET.append([T1,T2,T3,T4,T5])\n",
    "    RMSETT.append([TT1, TT2,TT3,TT4,TT5])\n",
    "    AvgT =(T1+T2+T3+T4+T5)/5\n",
    "    AvgTT =(TT1+TT2+TT3+TT4+TT5)/5\n",
    "    \n",
    "    RMSE.append([AvgT,AvgTT])"
   ]
  },
  {
   "cell_type": "code",
   "execution_count": 81,
   "id": "723551b4",
   "metadata": {},
   "outputs": [
    {
     "data": {
      "text/plain": [
       "[[0.1493113264821814, 0.7268855060380013],\n",
       " [0.16157089091753946, 0.8124232187746887],\n",
       " [0.1877635408509189, 0.7330678610719564],\n",
       " [0.2201636092144681, 0.6966416731875963],\n",
       " [0.17249254332282743, 0.7159791436130756]]"
      ]
     },
     "execution_count": 81,
     "metadata": {},
     "output_type": "execute_result"
    }
   ],
   "source": [
    "RMSE"
   ]
  },
  {
   "cell_type": "code",
   "execution_count": 82,
   "id": "cfff6aa3",
   "metadata": {},
   "outputs": [
    {
     "data": {
      "text/plain": [
       "[[0.2207050969604075,\n",
       "  0.1033710860415063,\n",
       "  0.01590739711873246,\n",
       "  0.1715735617638277,\n",
       "  0.23499949052643299],\n",
       " [0.2796860838869437,\n",
       "  0.0009750290125006829,\n",
       "  0.016500290186892624,\n",
       "  0.21661104214316074,\n",
       "  0.29408200935819945],\n",
       " [0.361020651853172,\n",
       "  9.818119058052357e-12,\n",
       "  0.016656977330624913,\n",
       "  0.2303447942125256,\n",
       "  0.33079528084845383],\n",
       " [0.36636906411393727,\n",
       "  9.140750602636459e-11,\n",
       "  0.016865575201400366,\n",
       "  0.2640519500643706,\n",
       "  0.45353145660122474],\n",
       " [0.3708373723848682,\n",
       "  5.757764413841443e-11,\n",
       "  0.017051828877788132,\n",
       "  0.010712837632902147,\n",
       "  0.46386067766100103]]"
      ]
     },
     "execution_count": 82,
     "metadata": {},
     "output_type": "execute_result"
    }
   ],
   "source": [
    "RMSET"
   ]
  },
  {
   "cell_type": "code",
   "execution_count": null,
   "id": "f508b6dc",
   "metadata": {},
   "outputs": [],
   "source": []
  }
 ],
 "metadata": {
  "kernelspec": {
   "display_name": "Python [conda env:py38] *",
   "language": "python",
   "name": "conda-env-py38-py"
  },
  "language_info": {
   "codemirror_mode": {
    "name": "ipython",
    "version": 3
   },
   "file_extension": ".py",
   "mimetype": "text/x-python",
   "name": "python",
   "nbconvert_exporter": "python",
   "pygments_lexer": "ipython3",
   "version": "3.8.12"
  }
 },
 "nbformat": 4,
 "nbformat_minor": 5
}
