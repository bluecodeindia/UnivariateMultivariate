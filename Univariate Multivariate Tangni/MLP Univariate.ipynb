{
 "cells": [
  {
   "cell_type": "code",
   "execution_count": 1,
   "id": "9900999f",
   "metadata": {},
   "outputs": [
    {
     "name": "stdout",
     "output_type": "stream",
     "text": [
      "Name: /physical_device:GPU:0   Type: GPU\n"
     ]
    }
   ],
   "source": [
    "import os\n",
    "os.environ['TF_CPP_MIN_LOG_LEVEL'] = '2' \n",
    "import tensorflow as tf\n",
    "gpus = tf.config.experimental.list_physical_devices('GPU')\n",
    "if gpus:\n",
    "    try:\n",
    "        for gpu in gpus:\n",
    "            tf.config.experimental.set_memory_growth(gpu, True)\n",
    "            print(\"Name:\", gpu.name, \"  Type:\", gpu.device_type)\n",
    "\n",
    "    except RuntimeError as e:\n",
    "        print(e)"
   ]
  },
  {
   "cell_type": "code",
   "execution_count": 2,
   "id": "bb55b948",
   "metadata": {},
   "outputs": [],
   "source": [
    "import pandas as pd\n",
    "import numpy as np\n",
    "import math \n",
    "import matplotlib.pyplot as plt\n",
    "from sklearn.utils import shuffle as skshuffle\n",
    "from tensorflow import keras\n",
    "from tensorflow.keras import layers\n",
    "from tensorflow.keras.models import Sequential\n",
    "from tensorflow.keras.layers import Dense\n",
    "from tensorflow.keras.layers import LSTM\n",
    "from tensorflow.keras.layers import Embedding\n",
    "from tensorflow.keras.layers import Dropout\n",
    "from tensorflow.keras.layers import Input\n",
    "from sklearn import preprocessing\n",
    "from tensorflow.keras import backend as K\n",
    "from sklearn.metrics import mean_absolute_error\n",
    "from sklearn.metrics import mean_squared_error\n",
    "from sklearn.metrics import mean_absolute_percentage_error\n",
    "import pyswarms as ps\n",
    "import random\n",
    "from pylab import rcParams\n",
    "%matplotlib inline"
   ]
  },
  {
   "cell_type": "code",
   "execution_count": 3,
   "id": "9cdc4760",
   "metadata": {},
   "outputs": [],
   "source": [
    "loss_tracker = keras.metrics.Mean(name=\"loss\")\n",
    "mae_metric = keras.metrics.MeanAbsoluteError(name=\"mae\")"
   ]
  },
  {
   "cell_type": "code",
   "execution_count": 4,
   "id": "f96a2312",
   "metadata": {},
   "outputs": [],
   "source": [
    "rcParams['figure.figsize'] = 50, 10"
   ]
  },
  {
   "cell_type": "code",
   "execution_count": 5,
   "id": "2ca8e518",
   "metadata": {},
   "outputs": [],
   "source": [
    "PATH_TO_TEST_TRAIN_DATA = 'Tangni/Data/'"
   ]
  },
  {
   "cell_type": "code",
   "execution_count": 6,
   "id": "f24b8e1a",
   "metadata": {},
   "outputs": [],
   "source": [
    "class MLP_Tangni:\n",
    "    def __init__(self,dictionary):\n",
    "        \n",
    "        self.train_size = 62\n",
    "        \n",
    "        \n",
    "        self.data1 = np.array(pd.read_csv(PATH_TO_TEST_TRAIN_DATA + '1-3.csv',  header=0, usecols=[0, 1], index_col=0))\n",
    "        self.data2 = np.array(pd.read_csv(PATH_TO_TEST_TRAIN_DATA + '2-12.csv', header=0, usecols=[0, 1], index_col=0))\n",
    "        self.data3 = np.array(pd.read_csv(PATH_TO_TEST_TRAIN_DATA + '3-6.csv',  header=0, usecols=[0, 1], index_col=0))\n",
    "        self.data4 = np.array(pd.read_csv(PATH_TO_TEST_TRAIN_DATA + '4-15.csv', header=0, usecols=[0, 1], index_col=0))\n",
    "        self.data5 = np.array(pd.read_csv(PATH_TO_TEST_TRAIN_DATA + '5-15.csv', header=0, usecols=[0, 1], index_col=0))     \n",
    "        \n",
    "    def Print(self):\n",
    "        print(self.data1)\n",
    "        \n",
    "    def rmse(self, true, predict):\n",
    "        \n",
    "        r = true - predict\n",
    "        sq = r*r\n",
    "        avg = np.mean(sq)\n",
    "        error = math.sqrt(avg)\n",
    "\n",
    "        return error\n",
    "    \n",
    "    def Average(self, lst):\n",
    "        return sum(lst) / len(lst)\n",
    "    \n",
    "    def dataProcessing(self, dF, lookback):\n",
    "    \n",
    "        data=list()\n",
    "        label=list()\n",
    "        for i in range(len(dF) - lookback):\n",
    "\n",
    "            data.append(np.array(dF[i:i+lookback]))\n",
    "\n",
    "            label.append(np.array(dF[i+lookback]))\n",
    "        \n",
    "        return np.array(data), np.array(label)\n",
    "\n",
    "    def make_packets(self, lookback):\n",
    "        \n",
    "        X1, L1 = self.dataProcessing(self.data1, lookback)\n",
    "        X2, L2 = self.dataProcessing(self.data2, lookback)\n",
    "        X3, L3 = self.dataProcessing(self.data3, lookback)\n",
    "        X4, L4 = self.dataProcessing(self.data4, lookback)\n",
    "        X5, L5 = self.dataProcessing(self.data5, lookback)\n",
    "        \n",
    "        train_X1, label_X1,test_X1,tst_label_X1 = X1[:self.train_size - lookback], L1[:self.train_size - lookback], X1[self.train_size - lookback:], L1[self.train_size - lookback:]\n",
    "        train_X2, label_X2,test_X2,tst_label_X2 = X2[:self.train_size - lookback], L2[:self.train_size - lookback], X2[self.train_size - lookback:], L2[self.train_size - lookback:]\n",
    "        train_X3, label_X3,test_X3,tst_label_X3 = X3[:self.train_size - lookback], L3[:self.train_size - lookback], X3[self.train_size - lookback:], L3[self.train_size - lookback:]\n",
    "        train_X4, label_X4,test_X4,tst_label_X4 = X4[:self.train_size - lookback], L4[:self.train_size - lookback], X4[self.train_size - lookback:], L4[self.train_size - lookback:]\n",
    "        train_X5, label_X5,test_X5,tst_label_X5 = X5[:self.train_size - lookback], L5[:self.train_size - lookback], X5[self.train_size - lookback:], L5[self.train_size - lookback:]\n",
    "        \n",
    "    \n",
    "        return train_X1, label_X1,test_X1,tst_label_X1, train_X2, label_X2,test_X2,tst_label_X2,train_X3, label_X3,test_X3,tst_label_X3, train_X4, label_X4,test_X4,tst_label_X4, train_X5, label_X5,test_X5,tst_label_X5\n",
    "\n",
    "    def getData(self, lookback = 1, shuffle=0):\n",
    "        \n",
    "        train_X1, label_X1,test_X1,tst_label_X1, train_X2, label_X2,test_X2,tst_label_X2,train_X3, label_X3,test_X3,tst_label_X3, train_X4, label_X4,test_X4,tst_label_X4, train_X5, label_X5,test_X5,tst_label_X5 = self.make_packets(lookback)\n",
    "        DATA = [train_X1, label_X1,test_X1,tst_label_X1, train_X2, label_X2,test_X2,tst_label_X2,train_X3, label_X3,test_X3,tst_label_X3, train_X4, label_X4,test_X4,tst_label_X4, train_X5, label_X5,test_X5,tst_label_X5]\n",
    "        \n",
    "        Train = np.append(train_X1, np.append(train_X2, np.append(train_X3, np.append(train_X4, train_X5, axis=0), axis=0), axis=0), axis=0)\n",
    "        Label = np.append(label_X1, np.append(label_X2, np.append(label_X3, np.append(label_X4, label_X5, axis=0), axis=0), axis=0), axis=0) \n",
    "     \n",
    "        if (shuffle == 1):\n",
    "            Train, Label = skshuffle(Train, Label, random_state=0)\n",
    "            \n",
    "        return Train, Label\n",
    "    \n",
    "    def MLP_model(self, units, lookback, features):\n",
    "        \n",
    "        model = Sequential()\n",
    "        model.add(Dense(units = units, activation= 'tanh', input_shape = (lookback, features)))\n",
    "        model.add(Dense(units = 1, activation= 'linear'))\n",
    "        model.compile(optimizer = 'adam', loss = 'mean_squared_error')\n",
    "#         model.summary()\n",
    "        \n",
    "        return model\n",
    "    \n",
    "    def trainModel(self, units, lookback = 1, batch_size = 4, shuffle = 0):\n",
    "        \n",
    "        train_X1, label_X1,test_X1,tst_label_X1, train_X2, label_X2,test_X2,tst_label_X2,train_X3, label_X3,test_X3,tst_label_X3, train_X4, label_X4,test_X4,tst_label_X4, train_X5, label_X5,test_X5,tst_label_X5 = self.make_packets(lookback)\n",
    "        DATA = [train_X1, label_X1,test_X1,tst_label_X1, train_X2, label_X2,test_X2,tst_label_X2,train_X3, label_X3,test_X3,tst_label_X3, train_X4, label_X4,test_X4,tst_label_X4, train_X5, label_X5,test_X5,tst_label_X5]\n",
    "        \n",
    "        Train = np.append(train_X1, np.append(train_X2, np.append(train_X3, np.append(train_X4, train_X5, axis=0), axis=0), axis=0), axis=0)\n",
    "        Label = np.append(label_X1, np.append(label_X2, np.append(label_X3, np.append(label_X4, label_X5, axis=0), axis=0), axis=0), axis=0) \n",
    "     \n",
    "        if (shuffle == 1):\n",
    "            Train, Label = skshuffle(Train, Label, random_state=0)\n",
    "            \n",
    "        LSTM = self.MLP_model(units, lookback)\n",
    "        LSTM.fit(Train, Label, epochs = 3, batch_size = batch_size, verbose=0)\n",
    "        \n",
    "        RMSE = list()\n",
    "        \n",
    "        #Calculate the error of the traing and testing\n",
    "        for i in range(0, 20, 2):\n",
    "            \n",
    "            prediction = LSTM.predict(DATA[i])\n",
    "            RMSE.append(self.rmse(prediction, DATA[i+1]))\n",
    "           \n",
    "         \n",
    "        #Find average of the training and testing\n",
    "        RMSE.append(self.Average(RMSE[0:5]))\n",
    "        RMSE.append(self.Average(RMSE[5:10]))\n",
    "        \n",
    "      \n",
    "        return RMSE\n",
    "    \n",
    "    def accuracy(self, MLP, Data1, Data2, Data3, shape, r):\n",
    "        \n",
    "        P =[]\n",
    "           \n",
    "        if r==0:\n",
    "            D1 = np.copy(Data1[0])\n",
    "            D1=D1.reshape(shape)\n",
    "            D2 = np.copy(Data2[1:])\n",
    "            Testing = np.copy(Data3)\n",
    "            for i in range(len(D2)):\n",
    "                p=MLP.predict(D1)\n",
    "                P.append(p[-1][0])\n",
    "                a=np.array(D2[i])\n",
    "                a=a.reshape(shape)\n",
    "                D1=np.append(D1,a,axis=0)\n",
    "            P=np.array(P)\n",
    "            RMSE = math.sqrt(mean_squared_error(Testing[1:], P))\n",
    "            MAE  = mean_absolute_error(Testing[1:], P)\n",
    "            MAPE = mean_absolute_percentage_error(Testing[1:], P)\n",
    "            \n",
    "        if r==1:\n",
    "            D1 = np.copy(Data1)\n",
    "            D2 = np.copy(Data2)\n",
    "            Testing = np.copy(Data3)\n",
    "            for i in range(16):\n",
    "                p=MLP.predict(D1)\n",
    "                P.append(p[-1][0])\n",
    "                a=np.array(D2[i])\n",
    "                a=a.reshape(shape)\n",
    "                D1=np.append(D1,a,axis=0)\n",
    "            P=np.array(P)\n",
    "            RMSE = math.sqrt(mean_squared_error(Testing, P))\n",
    "            MAE  = mean_absolute_error(Testing, P)\n",
    "            MAPE = mean_absolute_percentage_error(Testing, P)\n",
    "            \n",
    "        return RMSE, MAE, MAPE, P\n",
    "    \n",
    "    def runModel(self, units, features, lookback = 1, epochs=1, batch_size = 4, shuffle = 0):\n",
    "        \n",
    "        train_X1, label_X1,test_X1,tst_label_X1, train_X2, label_X2,test_X2,tst_label_X2,train_X3, label_X3,test_X3,tst_label_X3, train_X4, label_X4,test_X4,tst_label_X4, train_X5, label_X5,test_X5,tst_label_X5 = self.make_packets(lookback)\n",
    "        DATA = [train_X1, label_X1,test_X1,tst_label_X1, train_X2, label_X2,test_X2,tst_label_X2,train_X3, label_X3,test_X3,tst_label_X3, train_X4, label_X4,test_X4,tst_label_X4, train_X5, label_X5,test_X5,tst_label_X5]\n",
    "        \n",
    "        Train = np.append(train_X1, np.append(train_X2, np.append(train_X3, np.append(train_X4, train_X5, axis=0), axis=0), axis=0), axis=0)\n",
    "        Label = np.append(label_X1, np.append(label_X2, np.append(label_X3, np.append(label_X4, label_X5, axis=0), axis=0), axis=0), axis=0) \n",
    "     \n",
    "        if (shuffle == 1):\n",
    "            Train, Label = skshuffle(Train, Label, random_state=0)\n",
    "        \n",
    "        MLP = self.MLP_model(units, lookback,features)\n",
    "        \n",
    "        MLP.fit(Train, Label, epochs = epochs, batch_size = batch_size, verbose=0)\n",
    "        \n",
    "        RMSE = []\n",
    "        MAE = []\n",
    "        MAPE = []\n",
    "        P =[]\n",
    "        Pre=[]\n",
    "        T =[]\n",
    "        sh = (1,lookback,features)\n",
    "        \n",
    "        #Calculate the error of the traing and testing\n",
    "        \n",
    "        A, B, C, D = self.accuracy(MLP,train_X1,train_X1,label_X1,sh,r=0)\n",
    "        RMSE.append(A),MAE.append(B),MAPE.append(C),Pre.append(D)\n",
    "        \n",
    "        A, B, C, D = self.accuracy(MLP,train_X2,train_X2,label_X2,sh,r=0)\n",
    "        RMSE.append(A),MAE.append(B),MAPE.append(C),Pre.append(D)\n",
    "        \n",
    "        A, B, C, D = self.accuracy(MLP,train_X3,train_X3,label_X3,sh,r=0)\n",
    "        RMSE.append(A),MAE.append(B),MAPE.append(C),Pre.append(D)\n",
    "        \n",
    "        A, B, C, D = self.accuracy(MLP,train_X4,train_X4,label_X4,sh,r=0)\n",
    "        RMSE.append(A),MAE.append(B),MAPE.append(C),Pre.append(D)\n",
    "        \n",
    "        A, B, C, D = self.accuracy(MLP,train_X5,train_X5,label_X5,sh,r=0)\n",
    "        RMSE.append(A),MAE.append(B),MAPE.append(C),Pre.append(D)\n",
    "        \n",
    "        A, B, C, D = self.accuracy(MLP,train_X1,test_X1,tst_label_X1,sh,r=1)\n",
    "        RMSE.append(A),MAE.append(B),MAPE.append(C),Pre.append(D)\n",
    "        \n",
    "        A, B, C, D = self.accuracy(MLP,train_X2,test_X2,tst_label_X2,sh,r=1)\n",
    "        RMSE.append(A),MAE.append(B),MAPE.append(C),Pre.append(D)\n",
    "        \n",
    "        A, B, C, D = self.accuracy(MLP,train_X3,test_X3,tst_label_X3,sh,r=1)\n",
    "        RMSE.append(A),MAE.append(B),MAPE.append(C),Pre.append(D)\n",
    "        \n",
    "        A, B, C, D = self.accuracy(MLP,train_X4,test_X4,tst_label_X4,sh,r=1)\n",
    "        RMSE.append(A),MAE.append(B),MAPE.append(C),Pre.append(D)\n",
    "        \n",
    "        A, B, C, D = self.accuracy(MLP,train_X5,test_X5,tst_label_X5,sh,r=1)\n",
    "        RMSE.append(A),MAE.append(B),MAPE.append(C),Pre.append(D)\n",
    "        \n",
    "        RMSE.append(np.sum(RMSE[:5])/5)\n",
    "        RMSE.append(np.sum(RMSE[5:])/5)\n",
    "        \n",
    "        \n",
    "        return RMSE, MAE, MAPE, Pre\n",
    "    \n",
    "    def runModel_weights(self, units, features, weights, lookback = 1, epochs=1, batch_size = 4, shuffle = 0):\n",
    "        \n",
    "        train_X1, label_X1,test_X1,tst_label_X1, train_X2, label_X2,test_X2,tst_label_X2,train_X3, label_X3,test_X3,tst_label_X3, train_X4, label_X4,test_X4,tst_label_X4, train_X5, label_X5,test_X5,tst_label_X5 = self.make_packets(lookback)\n",
    "        DATA = [train_X1, label_X1,test_X1,tst_label_X1, train_X2, label_X2,test_X2,tst_label_X2,train_X3, label_X3,test_X3,tst_label_X3, train_X4, label_X4,test_X4,tst_label_X4, train_X5, label_X5,test_X5,tst_label_X5]\n",
    "        \n",
    "        Train = np.append(train_X1, np.append(train_X2, np.append(train_X3, np.append(train_X4, train_X5, axis=0), axis=0), axis=0), axis=0)\n",
    "        Label = np.append(label_X1, np.append(label_X2, np.append(label_X3, np.append(label_X4, label_X5, axis=0), axis=0), axis=0), axis=0) \n",
    "     \n",
    "        if (shuffle == 1):\n",
    "            Train, Label = skshuffle(Train, Label, random_state=0)\n",
    "        \n",
    "        MLP = self.MLP_model(units, lookback, features)\n",
    "        \n",
    "        idx1 = features * units\n",
    "        idx2 = idx1 + units\n",
    "        idx3 = idx2 + units\n",
    "        idx4 = idx3 + 1\n",
    "\n",
    "\n",
    "        W1 = weights[0:idx1].reshape((features, units))\n",
    "\n",
    "        W2 = weights[idx1:idx2].reshape((units))\n",
    "\n",
    "        W3 = weights[idx2:idx3].reshape((units,1))\n",
    "\n",
    "        W4 = weights[idx3:].reshape((1))\n",
    "\n",
    "\n",
    "        W = [W1,W2,W3,W4]\n",
    "\n",
    "\n",
    "        MLP.set_weights(W)\n",
    "        \n",
    "        MLP.fit(Train, Label, epochs = epochs, batch_size = batch_size, verbose=0)\n",
    "        \n",
    "        RMSE = []\n",
    "        MAE = []\n",
    "        MAPE = []\n",
    "        P =[]\n",
    "        Pre=[]\n",
    "        T =[]\n",
    "        sh = (1,lookback,features)\n",
    "        \n",
    "        #Calculate the error of the traing and testing\n",
    "        \n",
    "        A, B, C, D = self.accuracy(MLP,train_X1,train_X1,label_X1,sh,r=0)\n",
    "        RMSE.append(A),MAE.append(B),MAPE.append(C),Pre.append(D)\n",
    "        \n",
    "        A, B, C, D = self.accuracy(MLP,train_X2,train_X2,label_X2,sh,r=0)\n",
    "        RMSE.append(A),MAE.append(B),MAPE.append(C),Pre.append(D)\n",
    "        \n",
    "        A, B, C, D = self.accuracy(MLP,train_X3,train_X3,label_X3,sh,r=0)\n",
    "        RMSE.append(A),MAE.append(B),MAPE.append(C),Pre.append(D)\n",
    "        \n",
    "        A, B, C, D = self.accuracy(MLP,train_X4,train_X4,label_X4,sh,r=0)\n",
    "        RMSE.append(A),MAE.append(B),MAPE.append(C),Pre.append(D)\n",
    "        \n",
    "        A, B, C, D = self.accuracy(MLP,train_X5,train_X5,label_X5,sh,r=0)\n",
    "        RMSE.append(A),MAE.append(B),MAPE.append(C),Pre.append(D)\n",
    "        \n",
    "        A, B, C, D = self.accuracy(MLP,train_X1,test_X1,tst_label_X1,sh,r=1)\n",
    "        RMSE.append(A),MAE.append(B),MAPE.append(C),Pre.append(D)\n",
    "        \n",
    "        A, B, C, D = self.accuracy(MLP,train_X2,test_X2,tst_label_X2,sh,r=1)\n",
    "        RMSE.append(A),MAE.append(B),MAPE.append(C),Pre.append(D)\n",
    "        \n",
    "        A, B, C, D = self.accuracy(MLP,train_X3,test_X3,tst_label_X3,sh,r=1)\n",
    "        RMSE.append(A),MAE.append(B),MAPE.append(C),Pre.append(D)\n",
    "        \n",
    "        A, B, C, D = self.accuracy(MLP,train_X4,test_X4,tst_label_X4,sh,r=1)\n",
    "        RMSE.append(A),MAE.append(B),MAPE.append(C),Pre.append(D)\n",
    "        \n",
    "        A, B, C, D = self.accuracy(MLP,train_X5,test_X5,tst_label_X5,sh,r=1)\n",
    "        RMSE.append(A),MAE.append(B),MAPE.append(C),Pre.append(D)\n",
    "        \n",
    "        RMSE.append(np.sum(RMSE[:5])/5)\n",
    "        RMSE.append(np.sum(RMSE[5:])/5)\n",
    "        \n",
    "        \n",
    "        return RMSE, MAE, MAPE, Pre\n",
    "    \n",
    "            "
   ]
  },
  {
   "cell_type": "code",
   "execution_count": 7,
   "id": "1cad30e4",
   "metadata": {},
   "outputs": [],
   "source": [
    "dictionary = {'normalize': 0}"
   ]
  },
  {
   "cell_type": "code",
   "execution_count": 8,
   "id": "f6712926",
   "metadata": {},
   "outputs": [],
   "source": [
    "mlp = MLP_Tangni(dictionary)"
   ]
  },
  {
   "cell_type": "code",
   "execution_count": null,
   "id": "5484b8e0",
   "metadata": {},
   "outputs": [],
   "source": []
  },
  {
   "cell_type": "code",
   "execution_count": 9,
   "id": "89916576",
   "metadata": {},
   "outputs": [],
   "source": [
    "class CustomModel(keras.Model):\n",
    "    def train_step(self, data):\n",
    "\n",
    "        x, y = data\n",
    "        \n",
    "        y_pred = self(x, training=True)\n",
    "        loss = self.compiled_loss(y, y_pred, regularization_losses=self.losses)\n",
    "\n",
    "         # Compute our own metrics\n",
    "        loss_tracker.update_state(loss)\n",
    "        self.compiled_metrics.update_state(y, y_pred)\n",
    "        # Return a dict mapping metric names to current value\n",
    "        return {m.name: m.result() for m in self.metrics}\n",
    "\n",
    "    # Forward propagation\n",
    "def forward_props(params, units, features):\n",
    "    \n",
    "    idx1 = features * units\n",
    "    idx2 = idx1 + units\n",
    "    idx3 = idx2 + units\n",
    "    idx4 = idx3 + 1\n",
    "    \n",
    "    \n",
    "    W1 = params[0:idx1].reshape((features, units))\n",
    "   \n",
    "    W2 = params[idx1:idx2].reshape((units))\n",
    "    \n",
    "    W3 = params[idx2:idx3].reshape((units,1))\n",
    "    \n",
    "    W4 = params[idx3:].reshape((1))\n",
    "    \n",
    "\n",
    "    W = [W1,W2,W3,W4]\n",
    "   \n",
    "    modelOne.set_weights(W)\n",
    "    \n",
    "    history = modelOne.fit(Train, Label, epochs = 1, batch_size = 1000, verbose=0)\n",
    "    \n",
    "    \n",
    "    loss = history.history['loss'][0]\n",
    "\n",
    "    return loss\n",
    "\n",
    "def fun(x,print_step):\n",
    "\n",
    "    n_particles = x.shape[0]\n",
    "    \n",
    "    j = [forward_props(x[i],units, features) for i in range(n_particles)]\n",
    "    return np.array(j)"
   ]
  },
  {
   "cell_type": "code",
   "execution_count": null,
   "id": "783e4950",
   "metadata": {},
   "outputs": [],
   "source": []
  },
  {
   "cell_type": "code",
   "execution_count": null,
   "id": "bb1cf2d0",
   "metadata": {},
   "outputs": [],
   "source": []
  },
  {
   "cell_type": "code",
   "execution_count": null,
   "id": "a0b4f314",
   "metadata": {},
   "outputs": [],
   "source": []
  },
  {
   "cell_type": "code",
   "execution_count": 10,
   "id": "be129aae",
   "metadata": {},
   "outputs": [
    {
     "name": "stderr",
     "output_type": "stream",
     "text": [
      "2022-03-16 11:41:02,259 - pyswarms.single.global_best - INFO - Optimize for 100 iters with {'c1': 0.5, 'c2': 0.3, 'w': 0.9}\n",
      "pyswarms.single.global_best: 100%|█████████████████████|100/100, best_cost=0.294\n",
      "2022-03-16 11:46:28,040 - pyswarms.single.global_best - INFO - Optimization finished | best cost: 0.2939084768295288\n",
      "2022-03-16 11:46:49,632 - pyswarms.single.global_best - INFO - Optimize for 100 iters with {'c1': 0.5, 'c2': 0.3, 'w': 0.9}\n"
     ]
    },
    {
     "name": "stdout",
     "output_type": "stream",
     "text": [
      "[10, 1] 0.5498050027921394 0.6111151201728487\n"
     ]
    },
    {
     "name": "stderr",
     "output_type": "stream",
     "text": [
      "pyswarms.single.global_best: 100%|█████████████████████|100/100, best_cost=0.269\n",
      "2022-03-16 11:52:12,737 - pyswarms.single.global_best - INFO - Optimization finished | best cost: 0.26872915029525757\n",
      "2022-03-16 11:52:33,294 - pyswarms.single.global_best - INFO - Optimize for 100 iters with {'c1': 0.5, 'c2': 0.3, 'w': 0.9}\n"
     ]
    },
    {
     "name": "stdout",
     "output_type": "stream",
     "text": [
      "[50, 1] 0.520927438104889 0.6132063968101755\n"
     ]
    },
    {
     "name": "stderr",
     "output_type": "stream",
     "text": [
      "pyswarms.single.global_best: 100%|█████████████████████|100/100, best_cost=0.293\n",
      "2022-03-16 11:57:58,300 - pyswarms.single.global_best - INFO - Optimization finished | best cost: 0.2933683693408966\n",
      "2022-03-16 11:58:18,751 - pyswarms.single.global_best - INFO - Optimize for 100 iters with {'c1': 0.5, 'c2': 0.3, 'w': 0.9}\n"
     ]
    },
    {
     "name": "stdout",
     "output_type": "stream",
     "text": [
      "[100, 1] 0.5263041352922644 0.6121023758161342\n"
     ]
    },
    {
     "name": "stderr",
     "output_type": "stream",
     "text": [
      "pyswarms.single.global_best: 100%|█████████████████████|100/100, best_cost=0.283\n",
      "2022-03-16 12:03:33,400 - pyswarms.single.global_best - INFO - Optimization finished | best cost: 0.28291085362434387\n",
      "2022-03-16 12:03:53,348 - pyswarms.single.global_best - INFO - Optimize for 100 iters with {'c1': 0.5, 'c2': 0.3, 'w': 0.9}\n"
     ]
    },
    {
     "name": "stdout",
     "output_type": "stream",
     "text": [
      "[200, 1] 0.5298580653514096 0.6331766871593872\n"
     ]
    },
    {
     "name": "stderr",
     "output_type": "stream",
     "text": [
      "pyswarms.single.global_best: 100%|█████████████████████|100/100, best_cost=0.273\n",
      "2022-03-16 12:08:58,482 - pyswarms.single.global_best - INFO - Optimization finished | best cost: 0.27311909198760986\n",
      "2022-03-16 12:09:17,215 - pyswarms.single.global_best - INFO - Optimize for 100 iters with {'c1': 0.5, 'c2': 0.3, 'w': 0.9}\n"
     ]
    },
    {
     "name": "stdout",
     "output_type": "stream",
     "text": [
      "[300, 1] 0.5310294013443958 0.6594430410173078\n"
     ]
    },
    {
     "name": "stderr",
     "output_type": "stream",
     "text": [
      "pyswarms.single.global_best: 100%|█████████████████████|100/100, best_cost=0.278\n",
      "2022-03-16 12:14:19,845 - pyswarms.single.global_best - INFO - Optimization finished | best cost: 0.2778458595275879\n",
      "2022-03-16 12:14:38,359 - pyswarms.single.global_best - INFO - Optimize for 100 iters with {'c1': 0.5, 'c2': 0.3, 'w': 0.9}\n"
     ]
    },
    {
     "name": "stdout",
     "output_type": "stream",
     "text": [
      "[400, 1] 0.5289371111629961 0.6157955632413643\n"
     ]
    },
    {
     "name": "stderr",
     "output_type": "stream",
     "text": [
      "pyswarms.single.global_best: 100%|█████████████████████|100/100, best_cost=0.284\n",
      "2022-03-16 12:19:39,414 - pyswarms.single.global_best - INFO - Optimization finished | best cost: 0.2837562561035156\n",
      "2022-03-16 12:19:57,935 - pyswarms.single.global_best - INFO - Optimize for 100 iters with {'c1': 0.5, 'c2': 0.3, 'w': 0.9}\n"
     ]
    },
    {
     "name": "stdout",
     "output_type": "stream",
     "text": [
      "[500, 1] 0.5508424098166277 0.6949557390506949\n"
     ]
    },
    {
     "name": "stderr",
     "output_type": "stream",
     "text": [
      "pyswarms.single.global_best: 100%|█████████████████████|100/100, best_cost=0.425\n",
      "2022-03-16 12:24:58,443 - pyswarms.single.global_best - INFO - Optimization finished | best cost: 0.4252595603466034\n",
      "2022-03-16 12:25:17,248 - pyswarms.single.global_best - INFO - Optimize for 100 iters with {'c1': 0.5, 'c2': 0.3, 'w': 0.9}\n"
     ]
    },
    {
     "name": "stdout",
     "output_type": "stream",
     "text": [
      "[10, 2] 0.6267860523599224 0.7295493199734004\n"
     ]
    },
    {
     "name": "stderr",
     "output_type": "stream",
     "text": [
      "pyswarms.single.global_best: 100%|█████████████████████|100/100, best_cost=0.385\n",
      "2022-03-16 12:30:17,860 - pyswarms.single.global_best - INFO - Optimization finished | best cost: 0.3852349519729614\n",
      "2022-03-16 12:30:36,425 - pyswarms.single.global_best - INFO - Optimize for 100 iters with {'c1': 0.5, 'c2': 0.3, 'w': 0.9}\n"
     ]
    },
    {
     "name": "stdout",
     "output_type": "stream",
     "text": [
      "[50, 2] 0.5880601959837962 0.7177945381115772\n"
     ]
    },
    {
     "name": "stderr",
     "output_type": "stream",
     "text": [
      "pyswarms.single.global_best: 100%|█████████████████████|100/100, best_cost=0.375\n",
      "2022-03-16 12:35:42,966 - pyswarms.single.global_best - INFO - Optimization finished | best cost: 0.3751762807369232\n",
      "2022-03-16 12:36:03,160 - pyswarms.single.global_best - INFO - Optimize for 100 iters with {'c1': 0.5, 'c2': 0.3, 'w': 0.9}\n"
     ]
    },
    {
     "name": "stdout",
     "output_type": "stream",
     "text": [
      "[100, 2] 0.595837597055181 0.7382563744187998\n"
     ]
    },
    {
     "name": "stderr",
     "output_type": "stream",
     "text": [
      "pyswarms.single.global_best: 100%|██████████████████████|100/100, best_cost=0.36\n",
      "2022-03-16 12:41:10,909 - pyswarms.single.global_best - INFO - Optimization finished | best cost: 0.3600362539291382\n",
      "2022-03-16 12:41:30,551 - pyswarms.single.global_best - INFO - Optimize for 100 iters with {'c1': 0.5, 'c2': 0.3, 'w': 0.9}\n"
     ]
    },
    {
     "name": "stdout",
     "output_type": "stream",
     "text": [
      "[200, 2] 0.5897833994104598 0.7386811157486998\n"
     ]
    },
    {
     "name": "stderr",
     "output_type": "stream",
     "text": [
      "pyswarms.single.global_best: 100%|█████████████████████|100/100, best_cost=0.376\n",
      "2022-03-16 12:46:37,499 - pyswarms.single.global_best - INFO - Optimization finished | best cost: 0.3762845993041992\n",
      "2022-03-16 12:46:56,702 - pyswarms.single.global_best - INFO - Optimize for 100 iters with {'c1': 0.5, 'c2': 0.3, 'w': 0.9}\n"
     ]
    },
    {
     "name": "stdout",
     "output_type": "stream",
     "text": [
      "[300, 2] 0.5990232071744768 0.7475822217529989\n"
     ]
    },
    {
     "name": "stderr",
     "output_type": "stream",
     "text": [
      "pyswarms.single.global_best: 100%|█████████████████████|100/100, best_cost=0.373\n",
      "2022-03-16 12:52:02,555 - pyswarms.single.global_best - INFO - Optimization finished | best cost: 0.3731313943862915\n",
      "2022-03-16 12:52:21,306 - pyswarms.single.global_best - INFO - Optimize for 100 iters with {'c1': 0.5, 'c2': 0.3, 'w': 0.9}\n"
     ]
    },
    {
     "name": "stdout",
     "output_type": "stream",
     "text": [
      "[400, 2] 0.5911715566941644 0.7343528769675537\n"
     ]
    },
    {
     "name": "stderr",
     "output_type": "stream",
     "text": [
      "pyswarms.single.global_best: 100%|█████████████████████|100/100, best_cost=0.415\n",
      "2022-03-16 12:57:26,930 - pyswarms.single.global_best - INFO - Optimization finished | best cost: 0.41458871960639954\n",
      "2022-03-16 12:57:46,382 - pyswarms.single.global_best - INFO - Optimize for 100 iters with {'c1': 0.5, 'c2': 0.3, 'w': 0.9}\n"
     ]
    },
    {
     "name": "stdout",
     "output_type": "stream",
     "text": [
      "[500, 2] 0.5934195519149226 0.7276342002741072\n"
     ]
    },
    {
     "name": "stderr",
     "output_type": "stream",
     "text": [
      "pyswarms.single.global_best: 100%|█████████████████████|100/100, best_cost=0.456\n",
      "2022-03-16 13:02:53,239 - pyswarms.single.global_best - INFO - Optimization finished | best cost: 0.4560635983943939\n",
      "2022-03-16 13:03:12,107 - pyswarms.single.global_best - INFO - Optimize for 100 iters with {'c1': 0.5, 'c2': 0.3, 'w': 0.9}\n"
     ]
    },
    {
     "name": "stdout",
     "output_type": "stream",
     "text": [
      "[10, 3] 0.7121546467691375 0.8110443156043864\n"
     ]
    },
    {
     "name": "stderr",
     "output_type": "stream",
     "text": [
      "pyswarms.single.global_best: 100%|█████████████████████|100/100, best_cost=0.464\n",
      "2022-03-16 13:08:13,717 - pyswarms.single.global_best - INFO - Optimization finished | best cost: 0.46385249495506287\n",
      "2022-03-16 13:08:32,386 - pyswarms.single.global_best - INFO - Optimize for 100 iters with {'c1': 0.5, 'c2': 0.3, 'w': 0.9}\n"
     ]
    },
    {
     "name": "stdout",
     "output_type": "stream",
     "text": [
      "[50, 3] 0.6689102465525834 0.8093572960050597\n"
     ]
    },
    {
     "name": "stderr",
     "output_type": "stream",
     "text": [
      "pyswarms.single.global_best: 100%|█████████████████████|100/100, best_cost=0.473\n",
      "2022-03-16 13:13:37,931 - pyswarms.single.global_best - INFO - Optimization finished | best cost: 0.47302448749542236\n",
      "2022-03-16 13:13:56,921 - pyswarms.single.global_best - INFO - Optimize for 100 iters with {'c1': 0.5, 'c2': 0.3, 'w': 0.9}\n"
     ]
    },
    {
     "name": "stdout",
     "output_type": "stream",
     "text": [
      "[100, 3] 0.6850327712606268 0.7819479536514169\n"
     ]
    },
    {
     "name": "stderr",
     "output_type": "stream",
     "text": [
      "pyswarms.single.global_best: 100%|█████████████████████|100/100, best_cost=0.468\n",
      "2022-03-16 13:19:10,741 - pyswarms.single.global_best - INFO - Optimization finished | best cost: 0.4677002429962158\n",
      "2022-03-16 13:19:29,031 - pyswarms.single.global_best - INFO - Optimize for 100 iters with {'c1': 0.5, 'c2': 0.3, 'w': 0.9}\n"
     ]
    },
    {
     "name": "stdout",
     "output_type": "stream",
     "text": [
      "[200, 3] 0.6826077520184486 0.7747207225286183\n"
     ]
    },
    {
     "name": "stderr",
     "output_type": "stream",
     "text": [
      "pyswarms.single.global_best: 100%|█████████████████████|100/100, best_cost=0.486\n",
      "2022-03-16 13:24:31,637 - pyswarms.single.global_best - INFO - Optimization finished | best cost: 0.48576539754867554\n",
      "2022-03-16 13:24:50,541 - pyswarms.single.global_best - INFO - Optimize for 100 iters with {'c1': 0.5, 'c2': 0.3, 'w': 0.9}\n"
     ]
    },
    {
     "name": "stdout",
     "output_type": "stream",
     "text": [
      "[300, 3] 0.684668240554082 0.8441709231594337\n"
     ]
    },
    {
     "name": "stderr",
     "output_type": "stream",
     "text": [
      "pyswarms.single.global_best: 100%|█████████████████████|100/100, best_cost=0.453\n",
      "2022-03-16 13:29:56,279 - pyswarms.single.global_best - INFO - Optimization finished | best cost: 0.45328110456466675\n",
      "2022-03-16 13:30:14,929 - pyswarms.single.global_best - INFO - Optimize for 100 iters with {'c1': 0.5, 'c2': 0.3, 'w': 0.9}\n"
     ]
    },
    {
     "name": "stdout",
     "output_type": "stream",
     "text": [
      "[400, 3] 0.6704384315627268 0.8004433808756588\n"
     ]
    },
    {
     "name": "stderr",
     "output_type": "stream",
     "text": [
      "pyswarms.single.global_best: 100%|█████████████████████|100/100, best_cost=0.468\n",
      "2022-03-16 13:35:20,489 - pyswarms.single.global_best - INFO - Optimization finished | best cost: 0.4680963158607483\n",
      "2022-03-16 13:35:39,453 - pyswarms.single.global_best - INFO - Optimize for 100 iters with {'c1': 0.5, 'c2': 0.3, 'w': 0.9}\n"
     ]
    },
    {
     "name": "stdout",
     "output_type": "stream",
     "text": [
      "[500, 3] 0.6690420889284712 0.8023690425761341\n"
     ]
    },
    {
     "name": "stderr",
     "output_type": "stream",
     "text": [
      "pyswarms.single.global_best: 100%|█████████████████████|100/100, best_cost=0.585\n",
      "2022-03-16 13:40:40,710 - pyswarms.single.global_best - INFO - Optimization finished | best cost: 0.5846119523048401\n",
      "2022-03-16 13:40:59,425 - pyswarms.single.global_best - INFO - Optimize for 100 iters with {'c1': 0.5, 'c2': 0.3, 'w': 0.9}\n"
     ]
    },
    {
     "name": "stdout",
     "output_type": "stream",
     "text": [
      "[10, 4] 0.7828209059940863 0.8276984116479136\n"
     ]
    },
    {
     "name": "stderr",
     "output_type": "stream",
     "text": [
      "pyswarms.single.global_best: 100%|█████████████████████|100/100, best_cost=0.525\n",
      "2022-03-16 13:46:01,084 - pyswarms.single.global_best - INFO - Optimization finished | best cost: 0.5252282023429871\n",
      "2022-03-16 13:46:19,276 - pyswarms.single.global_best - INFO - Optimize for 100 iters with {'c1': 0.5, 'c2': 0.3, 'w': 0.9}\n"
     ]
    },
    {
     "name": "stdout",
     "output_type": "stream",
     "text": [
      "[50, 4] 0.7529557602430863 0.8771160740650853\n"
     ]
    },
    {
     "name": "stderr",
     "output_type": "stream",
     "text": [
      "pyswarms.single.global_best: 100%|█████████████████████|100/100, best_cost=0.534\n",
      "2022-03-16 13:51:20,023 - pyswarms.single.global_best - INFO - Optimization finished | best cost: 0.5337800979614258\n",
      "2022-03-16 13:51:38,329 - pyswarms.single.global_best - INFO - Optimize for 100 iters with {'c1': 0.5, 'c2': 0.3, 'w': 0.9}\n"
     ]
    },
    {
     "name": "stdout",
     "output_type": "stream",
     "text": [
      "[100, 4] 0.7519385255933668 0.8687917547498886\n"
     ]
    },
    {
     "name": "stderr",
     "output_type": "stream",
     "text": [
      "pyswarms.single.global_best: 100%|█████████████████████|100/100, best_cost=0.546\n",
      "2022-03-16 13:56:38,308 - pyswarms.single.global_best - INFO - Optimization finished | best cost: 0.5460236668586731\n",
      "2022-03-16 13:56:56,794 - pyswarms.single.global_best - INFO - Optimize for 100 iters with {'c1': 0.5, 'c2': 0.3, 'w': 0.9}\n"
     ]
    },
    {
     "name": "stdout",
     "output_type": "stream",
     "text": [
      "[200, 4] 0.7554808601845989 0.8729811128816577\n"
     ]
    },
    {
     "name": "stderr",
     "output_type": "stream",
     "text": [
      "pyswarms.single.global_best: 100%|██████████████████████|100/100, best_cost=0.55\n",
      "2022-03-16 14:01:58,579 - pyswarms.single.global_best - INFO - Optimization finished | best cost: 0.5496788024902344\n",
      "2022-03-16 14:02:16,787 - pyswarms.single.global_best - INFO - Optimize for 100 iters with {'c1': 0.5, 'c2': 0.3, 'w': 0.9}\n"
     ]
    },
    {
     "name": "stdout",
     "output_type": "stream",
     "text": [
      "[300, 4] 0.7489296841462612 0.8430028684894098\n"
     ]
    },
    {
     "name": "stderr",
     "output_type": "stream",
     "text": [
      "pyswarms.single.global_best: 100%|█████████████████████|100/100, best_cost=0.557\n",
      "2022-03-16 14:07:17,994 - pyswarms.single.global_best - INFO - Optimization finished | best cost: 0.5569525361061096\n",
      "2022-03-16 14:07:36,630 - pyswarms.single.global_best - INFO - Optimize for 100 iters with {'c1': 0.5, 'c2': 0.3, 'w': 0.9}\n"
     ]
    },
    {
     "name": "stdout",
     "output_type": "stream",
     "text": [
      "[400, 4] 0.7468251301580157 0.8325164440700755\n"
     ]
    },
    {
     "name": "stderr",
     "output_type": "stream",
     "text": [
      "pyswarms.single.global_best: 100%|█████████████████████|100/100, best_cost=0.533\n",
      "2022-03-16 14:12:37,746 - pyswarms.single.global_best - INFO - Optimization finished | best cost: 0.532735288143158\n",
      "2022-03-16 14:12:56,302 - pyswarms.single.global_best - INFO - Optimize for 100 iters with {'c1': 0.5, 'c2': 0.3, 'w': 0.9}\n"
     ]
    },
    {
     "name": "stdout",
     "output_type": "stream",
     "text": [
      "[500, 4] 0.7494199153953834 0.8744948276736093\n"
     ]
    },
    {
     "name": "stderr",
     "output_type": "stream",
     "text": [
      "pyswarms.single.global_best: 100%|█████████████████████|100/100, best_cost=0.526\n",
      "2022-03-16 14:17:56,392 - pyswarms.single.global_best - INFO - Optimization finished | best cost: 0.5261081457138062\n",
      "2022-03-16 14:18:14,639 - pyswarms.single.global_best - INFO - Optimize for 100 iters with {'c1': 0.5, 'c2': 0.3, 'w': 0.9}\n"
     ]
    },
    {
     "name": "stdout",
     "output_type": "stream",
     "text": [
      "[10, 5] 0.782424038924088 0.9051786490816083\n"
     ]
    },
    {
     "name": "stderr",
     "output_type": "stream",
     "text": [
      "pyswarms.single.global_best: 100%|█████████████████████|100/100, best_cost=0.639\n",
      "2022-03-16 14:23:14,996 - pyswarms.single.global_best - INFO - Optimization finished | best cost: 0.6394314169883728\n",
      "2022-03-16 14:23:33,159 - pyswarms.single.global_best - INFO - Optimize for 100 iters with {'c1': 0.5, 'c2': 0.3, 'w': 0.9}\n"
     ]
    },
    {
     "name": "stdout",
     "output_type": "stream",
     "text": [
      "[50, 5] 0.794209765911303 0.8819772416961197\n"
     ]
    },
    {
     "name": "stderr",
     "output_type": "stream",
     "text": [
      "pyswarms.single.global_best: 100%|█████████████████████|100/100, best_cost=0.581\n",
      "2022-03-16 14:28:34,181 - pyswarms.single.global_best - INFO - Optimization finished | best cost: 0.5807762145996094\n",
      "2022-03-16 14:28:52,094 - pyswarms.single.global_best - INFO - Optimize for 100 iters with {'c1': 0.5, 'c2': 0.3, 'w': 0.9}\n"
     ]
    },
    {
     "name": "stdout",
     "output_type": "stream",
     "text": [
      "[100, 5] 0.7927354367325827 0.8941438386301487\n"
     ]
    },
    {
     "name": "stderr",
     "output_type": "stream",
     "text": [
      "pyswarms.single.global_best: 100%|█████████████████████|100/100, best_cost=0.613\n",
      "2022-03-16 14:33:55,364 - pyswarms.single.global_best - INFO - Optimization finished | best cost: 0.6128371953964233\n",
      "2022-03-16 14:34:13,987 - pyswarms.single.global_best - INFO - Optimize for 100 iters with {'c1': 0.5, 'c2': 0.3, 'w': 0.9}\n"
     ]
    },
    {
     "name": "stdout",
     "output_type": "stream",
     "text": [
      "[200, 5] 0.7950146253920278 0.8919482326475299\n"
     ]
    },
    {
     "name": "stderr",
     "output_type": "stream",
     "text": [
      "pyswarms.single.global_best: 100%|█████████████████████|100/100, best_cost=0.592\n",
      "2022-03-16 14:39:16,029 - pyswarms.single.global_best - INFO - Optimization finished | best cost: 0.592448353767395\n",
      "2022-03-16 14:39:34,570 - pyswarms.single.global_best - INFO - Optimize for 100 iters with {'c1': 0.5, 'c2': 0.3, 'w': 0.9}\n"
     ]
    },
    {
     "name": "stdout",
     "output_type": "stream",
     "text": [
      "[300, 5] 0.7880046973363182 0.8528646290481804\n"
     ]
    },
    {
     "name": "stderr",
     "output_type": "stream",
     "text": [
      "pyswarms.single.global_best: 100%|█████████████████████|100/100, best_cost=0.595\n",
      "2022-03-16 14:44:40,169 - pyswarms.single.global_best - INFO - Optimization finished | best cost: 0.5952896475791931\n",
      "2022-03-16 14:44:58,873 - pyswarms.single.global_best - INFO - Optimize for 100 iters with {'c1': 0.5, 'c2': 0.3, 'w': 0.9}\n"
     ]
    },
    {
     "name": "stdout",
     "output_type": "stream",
     "text": [
      "[400, 5] 0.795478141110786 0.8576668556521373\n"
     ]
    },
    {
     "name": "stderr",
     "output_type": "stream",
     "text": [
      "pyswarms.single.global_best: 100%|█████████████████████|100/100, best_cost=0.666\n",
      "2022-03-16 14:50:03,873 - pyswarms.single.global_best - INFO - Optimization finished | best cost: 0.666267991065979\n"
     ]
    },
    {
     "name": "stdout",
     "output_type": "stream",
     "text": [
      "[500, 5] 0.7920999031844256 0.8488437442956819\n",
      "--------------------------------------------------\n",
      "Minimimu Error at [units, lookback, shuffle]\n",
      "[50, 1, 0.520927438104889, 0.6132063968101755]\n"
     ]
    }
   ],
   "source": [
    "lookback = [1,2,3,4,5]\n",
    "unitss = [10, 50, 100, 200, 300, 400, 500]\n",
    "Parameters = []\n",
    "Performance =[]\n",
    "minimum = 100\n",
    "idx = 0\n",
    "minidx = 0\n",
    "\n",
    "for i in lookback:\n",
    "        for u in unitss:\n",
    "\n",
    "            Parameters.append([u,i])\n",
    "\n",
    "            units = u\n",
    "            features = 1\n",
    "            \n",
    "            Train, Label =mlp.getData(lookback=i, shuffle=0)\n",
    "\n",
    "            inputs = keras.Input(shape=(i,features))\n",
    "            L = keras.layers.Dense(units = units, activation='tanh')(inputs)\n",
    "            outputs = keras.layers.Dense(1, activation='linear')(L)\n",
    "            modelOne = CustomModel(inputs, outputs)\n",
    "            modelOne.compile(optimizer=\"adam\", loss=\"mse\", metrics=['mae'])\n",
    "\n",
    "            # Initialize swarm\n",
    "            options = {'c1': 0.5, 'c2': 0.3, 'w':0.9}\n",
    "\n",
    "            # Call instance of PSO\n",
    "\n",
    "            dimensions = features * units + units + units + 1\n",
    "            optimizer = ps.single.GlobalBestPSO(n_particles=100, dimensions=dimensions, options=options)\n",
    "\n",
    "            # Perform optimization\n",
    "            cost, pos = optimizer.optimize(fun, print_step=0, iters=100, verbose=1)\n",
    "\n",
    "            RMSE,MAE,MAPE,Pre = mlp.runModel_weights(units=u, features=1, weights=pos, lookback = i, epochs=1000, batch_size = 64, shuffle = 0)\n",
    "\n",
    "            print([u,i],RMSE[-2],RMSE[-1])\n",
    "            Performance.append([u,i,RMSE[-2],RMSE[-1]])\n",
    "\n",
    "            if RMSE[-2] < minimum:\n",
    "                minimum = RMSE[-2]\n",
    "                minidx = idx\n",
    "\n",
    "            idx += 1\n",
    "                \n",
    "print('--------------------------------------------------')\n",
    "print('Minimimu Error at [units, lookback, shuffle]')\n",
    "\n",
    "print(Performance[minidx])"
   ]
  },
  {
   "cell_type": "code",
   "execution_count": null,
   "id": "6d31e0ea",
   "metadata": {},
   "outputs": [],
   "source": []
  },
  {
   "cell_type": "code",
   "execution_count": 13,
   "id": "2f02592b",
   "metadata": {},
   "outputs": [
    {
     "name": "stderr",
     "output_type": "stream",
     "text": [
      "2022-03-16 15:53:01,481 - pyswarms.single.global_best - INFO - Optimize for 1000 iters with {'c1': 0.5, 'c2': 0.3, 'w': 0.9}\n",
      "pyswarms.single.global_best: 100%|███████████████████|1000/1000, best_cost=0.198\n",
      "2022-03-16 16:42:53,944 - pyswarms.single.global_best - INFO - Optimization finished | best cost: 0.19787602126598358\n"
     ]
    }
   ],
   "source": [
    "units = 50\n",
    "features = 1\n",
    "lookback = 1\n",
    "shuffle = 0\n",
    "\n",
    "Train, Label =mlp.getData(lookback=lookback, shuffle=shuffle)\n",
    "Train.shape\n",
    "\n",
    "inputs = keras.Input(shape=(lookback,features))\n",
    "L = keras.layers.Dense(units = units, activation='tanh')(inputs)\n",
    "outputs = keras.layers.Dense(1, activation='linear')(L)\n",
    "modelOne = CustomModel(inputs, outputs)\n",
    "modelOne.compile(optimizer=\"adam\", loss=\"mse\", metrics=['mae'])\n",
    "\n",
    "# Initialize swarm\n",
    "options = {'c1': 0.5, 'c2': 0.3, 'w':0.9}\n",
    "\n",
    "# Call instance of PSO\n",
    "\n",
    "dimensions = features * units + units + units + 1\n",
    "optimizer = ps.single.GlobalBestPSO(n_particles=100, dimensions=dimensions, options=options)\n",
    "\n",
    "# Perform optimization\n",
    "cost, posfinal = optimizer.optimize(fun, print_step =0, iters=1000, verbose=1)"
   ]
  },
  {
   "cell_type": "code",
   "execution_count": 12,
   "id": "f4e3624c",
   "metadata": {},
   "outputs": [],
   "source": [
    "RMSE,MAE,MAPE,Pre = mlp.runModel_weights(units=50, features=1, weights=posfinal, lookback = 1, epochs=500, batch_size = 4, shuffle = 0)"
   ]
  },
  {
   "cell_type": "code",
   "execution_count": 18,
   "id": "3ef73690",
   "metadata": {},
   "outputs": [
    {
     "data": {
      "text/plain": [
       "[1.4755823913165909,\n",
       " 0.11416946348623518,\n",
       " 0.2251136159461647,\n",
       " 0.6599336221166637,\n",
       " 1.4857004230564732,\n",
       " 0.02122173064648436,\n",
       " 0.061810158304199,\n",
       " 1.4481377782802172,\n",
       " 0.14067540898465505,\n",
       " 1.7802737420784287,\n",
       " 0.7920999031844256,\n",
       " 0.8488437442956819]"
      ]
     },
     "execution_count": 18,
     "metadata": {},
     "output_type": "execute_result"
    }
   ],
   "source": [
    "RMSE"
   ]
  },
  {
   "cell_type": "code",
   "execution_count": 17,
   "id": "2358bf13",
   "metadata": {},
   "outputs": [
    {
     "name": "stdout",
     "output_type": "stream",
     "text": [
      "1.4755823913165909 0.11416946348623518 0.2251136159461647 0.6599336221166637 1.4857004230564732 0.02122173064648436 0.061810158304199 1.4481377782802172 0.14067540898465505 1.7802737420784287\n",
      "0.7100726234391893 0.07345435353727156 0.21651581242769666 0.1987094670671245 1.0179955013402309 0.02122173064648436 0.061810158304199 0.8137173954094677 0.11232755687821197 1.3200325716193229\n",
      "0.7561874092134665 0.02984837680163412 94.3546164273124 0.05974633149322047 1.7462619448302128 0.0038361569573248395 0.025116726325775184 9.850942888018006 0.033591676378751475 1.775397539339988\n"
     ]
    }
   ],
   "source": [
    "print(RMSE[0],RMSE[1],RMSE[2],RMSE[3],RMSE[4],RMSE[5],RMSE[6],RMSE[7],RMSE[8],RMSE[9])\n",
    "print(MAE[0],MAE[1],MAE[2],MAE[3],MAE[4],MAE[5],MAE[6],MAE[7],MAE[8],MAE[9])\n",
    "print(MAPE[0],MAPE[1],MAPE[2],MAPE[3],MAPE[4],MAPE[5],MAPE[6],MAPE[7],MAPE[8],MAPE[9])\n"
   ]
  },
  {
   "cell_type": "code",
   "execution_count": null,
   "id": "10c16210",
   "metadata": {},
   "outputs": [],
   "source": []
  }
 ],
 "metadata": {
  "kernelspec": {
   "display_name": "Python [conda env:py38] *",
   "language": "python",
   "name": "conda-env-py38-py"
  },
  "language_info": {
   "codemirror_mode": {
    "name": "ipython",
    "version": 3
   },
   "file_extension": ".py",
   "mimetype": "text/x-python",
   "name": "python",
   "nbconvert_exporter": "python",
   "pygments_lexer": "ipython3",
   "version": "3.8.12"
  }
 },
 "nbformat": 4,
 "nbformat_minor": 5
}
